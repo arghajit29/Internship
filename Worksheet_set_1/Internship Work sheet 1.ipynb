{
 "cells": [
  {
   "cell_type": "markdown",
   "id": "9235f35f",
   "metadata": {},
   "source": [
    "__Question 11__\n",
    "\n",
    "`Write a python program to find the factorial of a number`"
   ]
  },
  {
   "cell_type": "code",
   "execution_count": 1,
   "id": "2d3e17ef",
   "metadata": {},
   "outputs": [
    {
     "name": "stdout",
     "output_type": "stream",
     "text": [
      "Enter a number to compute it's factorial : 11\n",
      "Factorial for 11 is 39916800\n"
     ]
    }
   ],
   "source": [
    "fact_num = int(input(\"Enter a number to compute it's factorial : \"))\n",
    "\n",
    "factorial = 1\n",
    "\n",
    "if fact_num < 0:\n",
    "    print(\"Factorial for negative numbers CANNOT be computed\")\n",
    "elif fact_num == 0:\n",
    "    print(\"Factorial of 0 is 1\")\n",
    "else:\n",
    "    for i in range(1, fact_num+1):\n",
    "        factorial = factorial * i\n",
    "        \n",
    "print(\"Factorial for\", fact_num,\"is\", factorial)"
   ]
  },
  {
   "cell_type": "markdown",
   "id": "59adfe1b",
   "metadata": {},
   "source": [
    "__Question 12__\n",
    "\n",
    "`Write a python program to find whether a number is prime or composite`"
   ]
  },
  {
   "cell_type": "code",
   "execution_count": 2,
   "id": "885a72c1",
   "metadata": {},
   "outputs": [
    {
     "name": "stdout",
     "output_type": "stream",
     "text": [
      "Enter a number : 391\n",
      "391 is a COMPOSITE number\n"
     ]
    }
   ],
   "source": [
    "num = int(input(\"Enter a number : \"))\n",
    "\n",
    "if num > 1:\n",
    "    for i in range(2, num):\n",
    "        if (num % i) == 0:\n",
    "            print(num, \"is a COMPOSITE number\")\n",
    "            break\n",
    "    else:\n",
    "        print(num, \"is a PRIME number\")\n",
    "        \n",
    "elif num == 0 or 1:\n",
    "    print(num, \"is a neither prime NOR composite number\")"
   ]
  },
  {
   "cell_type": "markdown",
   "id": "7f0f88dd",
   "metadata": {},
   "source": [
    "__Question 13__\n",
    "\n",
    "`Write a python program to check whether a given string is palindrome or not`"
   ]
  },
  {
   "cell_type": "code",
   "execution_count": 4,
   "id": "a3ae329c",
   "metadata": {},
   "outputs": [
    {
     "name": "stdout",
     "output_type": "stream",
     "text": [
      "Enter a string for Palindrome check : malayalam\n",
      "Yes, it is a PALINDROME\n"
     ]
    }
   ],
   "source": [
    "def isPalindrome(s):\n",
    "    return s == s[::-1]\n",
    "\n",
    "str1 = str(input(\"Enter a string for Palindrome check : \"))\n",
    "str_rev = isPalindrome(str1)\n",
    " \n",
    "if str_rev:\n",
    "    print(\"Yes, it is a PALINDROME\")\n",
    "else:\n",
    "    print(\"No, it is NOT a Palindrome\")"
   ]
  },
  {
   "cell_type": "markdown",
   "id": "21c64d1a",
   "metadata": {},
   "source": [
    "__Question 14__\n",
    "\n",
    "`Write a Python program to get the third side of right-angled triangle from two given sides`"
   ]
  },
  {
   "cell_type": "code",
   "execution_count": 5,
   "id": "6d0e1321",
   "metadata": {},
   "outputs": [
    {
     "name": "stdout",
     "output_type": "stream",
     "text": [
      "Hypotenuse = 5.0\n",
      "Adjacent Side = 12.0\n",
      "Opposite Side = 8.0\n",
      "All the sides are known !!\n"
     ]
    }
   ],
   "source": [
    "def pythagoras(opp_side, adj_side, hypotenuse):\n",
    "        if opp_side == str(\"x\"):\n",
    "            return (\"Opposite Side = \" + str(((hypotenuse**2) - (adj_side**2))**0.5))\n",
    "        elif adj_side == str(\"x\"):\n",
    "            return (\"Adjacent Side = \" + str(((hypotenuse**2) - (opp_side**2))**0.5))\n",
    "        elif hypotenuse == str(\"x\"):\n",
    "            return (\"Hypotenuse = \" + str(((opp_side**2) + (adj_side**2))**0.5))\n",
    "        else:\n",
    "            return \"All the sides are known !!\"\n",
    "        \n",
    "print(pythagoras(3, 4, 'x'))\n",
    "print(pythagoras(5, 'x', 13))\n",
    "print(pythagoras('x', 15, 17))\n",
    "print(pythagoras(9, 40, 41))"
   ]
  },
  {
   "cell_type": "markdown",
   "id": "c2824c62",
   "metadata": {},
   "source": [
    "__Question 15__\n",
    "\n",
    "`Write a python program to print the frequency of each of the characters present in a given string`"
   ]
  },
  {
   "cell_type": "code",
   "execution_count": 6,
   "id": "7a0d5121",
   "metadata": {},
   "outputs": [
    {
     "name": "stdout",
     "output_type": "stream",
     "text": [
      "Enter a string for checking : rhododentron\n",
      "Count of all characters in the input string is :\n",
      "{'r': 2, 'h': 1, 'o': 3, 'd': 2, 'e': 1, 'n': 2, 't': 1}\n"
     ]
    }
   ],
   "source": [
    "str_1 = str(input('Enter a string for checking : '))\n",
    "\n",
    "all_frequency = {}\n",
    "\n",
    "for i in str_1:\n",
    "    if i in all_frequency:\n",
    "        all_frequency[i] += 1\n",
    "    else:\n",
    "        all_frequency[i] = 1\n",
    "        \n",
    "print('Count of all characters in the input string is :\\n' + str(all_frequency))"
   ]
  }
 ],
 "metadata": {
  "kernelspec": {
   "display_name": "Python 3 (ipykernel)",
   "language": "python",
   "name": "python3"
  },
  "language_info": {
   "codemirror_mode": {
    "name": "ipython",
    "version": 3
   },
   "file_extension": ".py",
   "mimetype": "text/x-python",
   "name": "python",
   "nbconvert_exporter": "python",
   "pygments_lexer": "ipython3",
   "version": "3.9.12"
  }
 },
 "nbformat": 4,
 "nbformat_minor": 5
}
