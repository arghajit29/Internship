{
 "cells": [
  {
   "cell_type": "code",
   "execution_count": 1,
   "metadata": {},
   "outputs": [],
   "source": [
    "import selenium\n",
    "import pandas as pd\n",
    "from selenium import webdriver\n",
    "from selenium.webdriver.common.by import By\n",
    "import time\n",
    "import warnings\n",
    "warnings.filterwarnings('ignore')"
   ]
  },
  {
   "cell_type": "markdown",
   "metadata": {},
   "source": [
    "## Ques 1"
   ]
  },
  {
   "cell_type": "markdown",
   "metadata": {},
   "source": [
    "Write a python program to scrape data for “Data Analyst” Job position in “Bangalore” location. You have to scrape the job-title, job-location, company_name, experience_required. You have to scrape first 10 jobs data.\n",
    "This task will be done in following steps:\n",
    "\n",
    "1. First get the webpage https://www.naukri.com/\n",
    "2. Enter “Data Analyst” in “Skill, Designations, Companies” field and enter “Bangalore” in “enter the location” field.\n",
    "3. Then click the search button.\n",
    "4. Then scrape the data for the first 10 jobs results you get.\n",
    "5. Finally create a dataframe of the scraped data."
   ]
  },
  {
   "cell_type": "code",
   "execution_count": 2,
   "metadata": {},
   "outputs": [],
   "source": [
    "# let's first connect to the web driver\n",
    "driver = webdriver.Chrome(r'C:\\Users\\VAIO\\Downloads\\chromedriver.exe')"
   ]
  },
  {
   "cell_type": "code",
   "execution_count": 3,
   "metadata": {},
   "outputs": [],
   "source": [
    "url = \"https://www.naukri.com\"\n",
    "driver.get(url)"
   ]
  },
  {
   "cell_type": "code",
   "execution_count": 4,
   "metadata": {},
   "outputs": [
    {
     "data": {
      "text/plain": [
       "<selenium.webdriver.remote.webelement.WebElement (session=\"3f5919d733a45ae525de3dc7e85afb62\", element=\"a2d91b76-2b39-4843-a912-682cae9c30ed\")>"
      ]
     },
     "execution_count": 4,
     "metadata": {},
     "output_type": "execute_result"
    }
   ],
   "source": [
    "# finding element for job search bar\n",
    "search_job = driver.find_element(By.CLASS_NAME,'suggestor-input')\n",
    "search_job"
   ]
  },
  {
   "cell_type": "code",
   "execution_count": 5,
   "metadata": {},
   "outputs": [],
   "source": [
    "# write on search bar\n",
    "search_job.send_keys('Data Analyst')"
   ]
  },
  {
   "cell_type": "code",
   "execution_count": 6,
   "metadata": {},
   "outputs": [],
   "source": [
    "# finding element for job location bar\n",
    "search_loc=driver.find_element(By.XPATH,'/html/body/div[1]/div[6]/div/div/div[5]/div/div/div/input')\n",
    "search_loc.send_keys(\"Bangalore\")"
   ]
  },
  {
   "cell_type": "code",
   "execution_count": 7,
   "metadata": {},
   "outputs": [],
   "source": [
    "search_btn= driver.find_element(By.CLASS_NAME, \"qsbSubmit\")\n",
    "search_btn.click()"
   ]
  },
  {
   "cell_type": "code",
   "execution_count": 8,
   "metadata": {
    "scrolled": true
   },
   "outputs": [
    {
     "name": "stdout",
     "output_type": "stream",
     "text": [
      "Data Analyst\n",
      "APRP Manager / Senior Data Analyst - MeritTrac Services\n",
      "Sr Data Analyst\n",
      "Senior Data Management Analyst\n",
      "Senior Data Analyst - PLM Data Migration\n",
      "People Data Analyst\n",
      "Associate Healthcare Research & Data Analyst\n",
      "Lead Data Analyst\n",
      "Contractual Hiring For Top MNC || Business Data Analyst || Bangalore\n",
      "\n",
      "Master Data Management Business Analyst\n",
      "Data Analyst\n",
      "Sr. Data Analyst (SAS Data Management)\n",
      "Data Analyst\n",
      "Analyst, Data Science\n",
      "Data Analyst\n",
      "Data Analyst 2\n",
      "Senior Data Analyst\n",
      "Sr Data Analyst\n",
      "Data Analyst - FinTech\n",
      "data analyst / data analytics - US MNC (analytics)\n"
     ]
    }
   ],
   "source": [
    "#so let's extract all the tags having the job titles\n",
    "title_tags=driver.find_elements(By.XPATH, '//a[@class=\"title fw500 ellipsis\"]')\n",
    "for i in title_tags:\n",
    "    print(i.get_attribute('text'))"
   ]
  },
  {
   "cell_type": "code",
   "execution_count": 9,
   "metadata": {},
   "outputs": [
    {
     "data": {
      "text/plain": [
       "['Data Analyst',\n",
       " 'APRP Manager / Senior Data Analyst - MeritTrac Services',\n",
       " 'Sr Data Analyst',\n",
       " 'Senior Data Management Analyst',\n",
       " 'Senior Data Analyst - PLM Data Migration',\n",
       " 'People Data Analyst',\n",
       " 'Associate Healthcare Research & Data Analyst',\n",
       " 'Lead Data Analyst',\n",
       " 'Contractual Hiring For Top MNC || Business Data Analyst || Bangalore',\n",
       " 'Master Data Management Business Analyst']"
      ]
     },
     "execution_count": 9,
     "metadata": {},
     "output_type": "execute_result"
    }
   ],
   "source": [
    "# extract the text of the job title  from the tags\n",
    "job_titles=[]\n",
    "for i in title_tags:\n",
    "    if i.text is None:\n",
    "        job_titles.append('Not')\n",
    "    else:\n",
    "        job_titles.append(i.text)\n",
    "job_titles[:10] "
   ]
  },
  {
   "cell_type": "code",
   "execution_count": 10,
   "metadata": {
    "scrolled": true
   },
   "outputs": [
    {
     "data": {
      "text/plain": [
       "[<selenium.webdriver.remote.webelement.WebElement (session=\"3f5919d733a45ae525de3dc7e85afb62\", element=\"569c4d43-af45-4e79-87de-45161b9dcfa3\")>,\n",
       " <selenium.webdriver.remote.webelement.WebElement (session=\"3f5919d733a45ae525de3dc7e85afb62\", element=\"eed4bfd6-6992-486b-8db6-783b2792bc22\")>,\n",
       " <selenium.webdriver.remote.webelement.WebElement (session=\"3f5919d733a45ae525de3dc7e85afb62\", element=\"1ee62434-bb62-4a87-af06-6f2bee3447c2\")>,\n",
       " <selenium.webdriver.remote.webelement.WebElement (session=\"3f5919d733a45ae525de3dc7e85afb62\", element=\"9bb458a7-c6d6-4d13-9125-9a641694d9fb\")>,\n",
       " <selenium.webdriver.remote.webelement.WebElement (session=\"3f5919d733a45ae525de3dc7e85afb62\", element=\"716347ed-f34b-4008-a581-87a8ee11b665\")>,\n",
       " <selenium.webdriver.remote.webelement.WebElement (session=\"3f5919d733a45ae525de3dc7e85afb62\", element=\"e5ea7502-427f-4d68-8967-cd02c0dd464b\")>,\n",
       " <selenium.webdriver.remote.webelement.WebElement (session=\"3f5919d733a45ae525de3dc7e85afb62\", element=\"6ee40666-d19c-4a15-a4ed-fbaf94ef091b\")>,\n",
       " <selenium.webdriver.remote.webelement.WebElement (session=\"3f5919d733a45ae525de3dc7e85afb62\", element=\"b352f4ad-444a-4e51-82e9-a2d67db22166\")>,\n",
       " <selenium.webdriver.remote.webelement.WebElement (session=\"3f5919d733a45ae525de3dc7e85afb62\", element=\"42a7c681-215c-43ce-b491-56d76825a5b2\")>,\n",
       " <selenium.webdriver.remote.webelement.WebElement (session=\"3f5919d733a45ae525de3dc7e85afb62\", element=\"b7450d35-858a-485b-a92e-13e7aff9c3ee\")>,\n",
       " <selenium.webdriver.remote.webelement.WebElement (session=\"3f5919d733a45ae525de3dc7e85afb62\", element=\"5fd239ec-a339-4b71-b9d3-6cf634f84860\")>,\n",
       " <selenium.webdriver.remote.webelement.WebElement (session=\"3f5919d733a45ae525de3dc7e85afb62\", element=\"d7c876e2-6b23-430c-a5ab-796a6cf7f7e2\")>,\n",
       " <selenium.webdriver.remote.webelement.WebElement (session=\"3f5919d733a45ae525de3dc7e85afb62\", element=\"9f1a4454-f840-465f-9cdb-cffff3c5396e\")>,\n",
       " <selenium.webdriver.remote.webelement.WebElement (session=\"3f5919d733a45ae525de3dc7e85afb62\", element=\"a7f36cd2-d871-4e0f-a42a-46b0e0d2958e\")>,\n",
       " <selenium.webdriver.remote.webelement.WebElement (session=\"3f5919d733a45ae525de3dc7e85afb62\", element=\"04405992-69c5-4221-8f5d-06967ebfd9d2\")>,\n",
       " <selenium.webdriver.remote.webelement.WebElement (session=\"3f5919d733a45ae525de3dc7e85afb62\", element=\"c05484dc-acb4-4cca-9e02-8eef1da86948\")>,\n",
       " <selenium.webdriver.remote.webelement.WebElement (session=\"3f5919d733a45ae525de3dc7e85afb62\", element=\"a4edde6a-d991-40a0-84d7-a7f51a9307aa\")>,\n",
       " <selenium.webdriver.remote.webelement.WebElement (session=\"3f5919d733a45ae525de3dc7e85afb62\", element=\"f2156835-8ef0-4ea8-9c0d-8201b2869243\")>,\n",
       " <selenium.webdriver.remote.webelement.WebElement (session=\"3f5919d733a45ae525de3dc7e85afb62\", element=\"4af5dfe6-8cea-40a0-bfdd-82e2ddefd2c6\")>,\n",
       " <selenium.webdriver.remote.webelement.WebElement (session=\"3f5919d733a45ae525de3dc7e85afb62\", element=\"75336c75-00ea-46ec-aaca-0e1aaddd6e79\")>]"
      ]
     },
     "execution_count": 10,
     "metadata": {},
     "output_type": "execute_result"
    }
   ],
   "source": [
    "# lets extract all the tags having company names\n",
    "company_tags=driver.find_elements(By.XPATH, \"//a[@class='subTitle ellipsis fleft']\")\n",
    "company_tags"
   ]
  },
  {
   "cell_type": "code",
   "execution_count": 11,
   "metadata": {},
   "outputs": [
    {
     "data": {
      "text/plain": [
       "['Cargill',\n",
       " 'MeritTrac',\n",
       " 'Inspira Enterprise India Pvt. Ltd.',\n",
       " 'Wells Fargo',\n",
       " 'CGI',\n",
       " 'Western Digital',\n",
       " 'Clarivate',\n",
       " 'Mobile Premier League (MPL)',\n",
       " 'TeamLease',\n",
       " 'Accenture']"
      ]
     },
     "execution_count": 11,
     "metadata": {},
     "output_type": "execute_result"
    }
   ],
   "source": [
    "# Now we will extract the text from the tags by looping over these tags\n",
    "companies_names=[]\n",
    "\n",
    "for i in company_tags:\n",
    "    companies_names.append(i.text)\n",
    "companies_names[:10]   "
   ]
  },
  {
   "cell_type": "code",
   "execution_count": 12,
   "metadata": {
    "scrolled": true
   },
   "outputs": [
    {
     "data": {
      "text/plain": [
       "[<selenium.webdriver.remote.webelement.WebElement (session=\"3f5919d733a45ae525de3dc7e85afb62\", element=\"925e12ba-bc59-4a3f-9af3-ddf01010d827\")>,\n",
       " <selenium.webdriver.remote.webelement.WebElement (session=\"3f5919d733a45ae525de3dc7e85afb62\", element=\"8f00df76-4772-4781-9d60-972d9aa7f82d\")>,\n",
       " <selenium.webdriver.remote.webelement.WebElement (session=\"3f5919d733a45ae525de3dc7e85afb62\", element=\"a57c4dff-e16e-4e26-8060-634a139d6bb6\")>,\n",
       " <selenium.webdriver.remote.webelement.WebElement (session=\"3f5919d733a45ae525de3dc7e85afb62\", element=\"fffea133-ed05-49e4-bdca-e300198d3a31\")>,\n",
       " <selenium.webdriver.remote.webelement.WebElement (session=\"3f5919d733a45ae525de3dc7e85afb62\", element=\"d1b0f90c-83c9-4de8-ac6a-7df2fd595a7b\")>,\n",
       " <selenium.webdriver.remote.webelement.WebElement (session=\"3f5919d733a45ae525de3dc7e85afb62\", element=\"10763a93-e8ab-4b59-b084-a6103d778d39\")>,\n",
       " <selenium.webdriver.remote.webelement.WebElement (session=\"3f5919d733a45ae525de3dc7e85afb62\", element=\"ec9cc184-a4af-429d-8a35-b194083e2501\")>,\n",
       " <selenium.webdriver.remote.webelement.WebElement (session=\"3f5919d733a45ae525de3dc7e85afb62\", element=\"b35bb997-4078-44a9-9ac0-4af9ce0fd9b7\")>,\n",
       " <selenium.webdriver.remote.webelement.WebElement (session=\"3f5919d733a45ae525de3dc7e85afb62\", element=\"e51d736d-c115-44dd-8e4b-4cd53fd05227\")>,\n",
       " <selenium.webdriver.remote.webelement.WebElement (session=\"3f5919d733a45ae525de3dc7e85afb62\", element=\"0d48a076-1753-4466-a5d5-a11f3397d9df\")>,\n",
       " <selenium.webdriver.remote.webelement.WebElement (session=\"3f5919d733a45ae525de3dc7e85afb62\", element=\"f9bb81e7-9cbd-48f9-b2e3-007863a48488\")>,\n",
       " <selenium.webdriver.remote.webelement.WebElement (session=\"3f5919d733a45ae525de3dc7e85afb62\", element=\"58e7df49-f6d1-4442-a80a-e62ee1ff4016\")>,\n",
       " <selenium.webdriver.remote.webelement.WebElement (session=\"3f5919d733a45ae525de3dc7e85afb62\", element=\"366aeff0-2b9c-45c6-be3d-82f4cf2eee9b\")>,\n",
       " <selenium.webdriver.remote.webelement.WebElement (session=\"3f5919d733a45ae525de3dc7e85afb62\", element=\"4ed7f4f3-2a79-4a27-b6f1-98570348f2e1\")>,\n",
       " <selenium.webdriver.remote.webelement.WebElement (session=\"3f5919d733a45ae525de3dc7e85afb62\", element=\"97bc6dbe-a97f-4a3d-a719-19952908ca9e\")>,\n",
       " <selenium.webdriver.remote.webelement.WebElement (session=\"3f5919d733a45ae525de3dc7e85afb62\", element=\"afdcae76-f6e1-4d50-a661-9661e60da26a\")>,\n",
       " <selenium.webdriver.remote.webelement.WebElement (session=\"3f5919d733a45ae525de3dc7e85afb62\", element=\"b57df099-5395-4cad-9737-bb8890bdf1ae\")>,\n",
       " <selenium.webdriver.remote.webelement.WebElement (session=\"3f5919d733a45ae525de3dc7e85afb62\", element=\"ab826838-29a7-419a-bd9e-e833d3023b20\")>,\n",
       " <selenium.webdriver.remote.webelement.WebElement (session=\"3f5919d733a45ae525de3dc7e85afb62\", element=\"d2537fd9-cf6e-4117-a52d-3fba5b53ba46\")>,\n",
       " <selenium.webdriver.remote.webelement.WebElement (session=\"3f5919d733a45ae525de3dc7e85afb62\", element=\"bd87b937-d8bf-44d4-9aef-6710b06bf49e\")>]"
      ]
     },
     "execution_count": 12,
     "metadata": {},
     "output_type": "execute_result"
    }
   ],
   "source": [
    "# so lets extract  all the tags having the experience required data\n",
    "experience_tags=driver.find_elements(By.XPATH,\"//li[@class='fleft grey-text br2 placeHolderLi experience'] //span\")\n",
    "experience_tags"
   ]
  },
  {
   "cell_type": "code",
   "execution_count": 13,
   "metadata": {},
   "outputs": [
    {
     "data": {
      "text/plain": [
       "['3-5 Yrs',\n",
       " '9-14 Yrs',\n",
       " '3-4 Yrs',\n",
       " '5-7 Yrs',\n",
       " '3-6 Yrs',\n",
       " '6-8 Yrs',\n",
       " '3-4 Yrs',\n",
       " '4-7 Yrs',\n",
       " '5-8 Yrs',\n",
       " '6-8 Yrs']"
      ]
     },
     "execution_count": 13,
     "metadata": {},
     "output_type": "execute_result"
    }
   ],
   "source": [
    "# no we will extract the text  from these tags only by one by looping over these tags\n",
    "experience_list=[]\n",
    "for i in experience_tags:\n",
    "    experience_list.append(i.text)\n",
    "experience_list[:10] "
   ]
  },
  {
   "cell_type": "code",
   "execution_count": 14,
   "metadata": {
    "scrolled": true
   },
   "outputs": [
    {
     "data": {
      "text/plain": [
       "[<selenium.webdriver.remote.webelement.WebElement (session=\"3f5919d733a45ae525de3dc7e85afb62\", element=\"53a212b7-5c09-4593-97ed-7c8aed4754dc\")>,\n",
       " <selenium.webdriver.remote.webelement.WebElement (session=\"3f5919d733a45ae525de3dc7e85afb62\", element=\"87fc774d-8076-4c18-a722-88f22e7b2787\")>,\n",
       " <selenium.webdriver.remote.webelement.WebElement (session=\"3f5919d733a45ae525de3dc7e85afb62\", element=\"1368e86b-925a-4cf8-aea2-d68cebff9c3d\")>,\n",
       " <selenium.webdriver.remote.webelement.WebElement (session=\"3f5919d733a45ae525de3dc7e85afb62\", element=\"33dece8c-1266-4c8e-ad3f-20711674f460\")>,\n",
       " <selenium.webdriver.remote.webelement.WebElement (session=\"3f5919d733a45ae525de3dc7e85afb62\", element=\"4525795d-77d9-4076-a67b-3531cb47ab11\")>,\n",
       " <selenium.webdriver.remote.webelement.WebElement (session=\"3f5919d733a45ae525de3dc7e85afb62\", element=\"a439af89-2d09-400d-82e5-bd99a6e905d1\")>,\n",
       " <selenium.webdriver.remote.webelement.WebElement (session=\"3f5919d733a45ae525de3dc7e85afb62\", element=\"78a8966b-e11b-4362-8939-f054b09ae855\")>,\n",
       " <selenium.webdriver.remote.webelement.WebElement (session=\"3f5919d733a45ae525de3dc7e85afb62\", element=\"a6e4723b-f1f1-48eb-9e94-d3b741a7413f\")>,\n",
       " <selenium.webdriver.remote.webelement.WebElement (session=\"3f5919d733a45ae525de3dc7e85afb62\", element=\"03e34c4c-cdd5-4bfd-aefd-3491fbc8fe57\")>,\n",
       " <selenium.webdriver.remote.webelement.WebElement (session=\"3f5919d733a45ae525de3dc7e85afb62\", element=\"d1201bed-d7af-47c1-b31c-da5e3c34414e\")>,\n",
       " <selenium.webdriver.remote.webelement.WebElement (session=\"3f5919d733a45ae525de3dc7e85afb62\", element=\"865613de-21fa-4eca-9ef9-8b66c3130d1f\")>,\n",
       " <selenium.webdriver.remote.webelement.WebElement (session=\"3f5919d733a45ae525de3dc7e85afb62\", element=\"d48b1e3c-8b5a-4651-9608-03399fb6385a\")>,\n",
       " <selenium.webdriver.remote.webelement.WebElement (session=\"3f5919d733a45ae525de3dc7e85afb62\", element=\"a3950367-f36a-41a7-9b03-5922b82b98e1\")>,\n",
       " <selenium.webdriver.remote.webelement.WebElement (session=\"3f5919d733a45ae525de3dc7e85afb62\", element=\"1e5a9c7e-292e-43ec-900e-db2afee55180\")>,\n",
       " <selenium.webdriver.remote.webelement.WebElement (session=\"3f5919d733a45ae525de3dc7e85afb62\", element=\"db6d248c-fbc6-4c6f-ac89-71dd900f8aed\")>,\n",
       " <selenium.webdriver.remote.webelement.WebElement (session=\"3f5919d733a45ae525de3dc7e85afb62\", element=\"398105fb-46cb-4f61-a5cc-c0f4aa38c0b8\")>,\n",
       " <selenium.webdriver.remote.webelement.WebElement (session=\"3f5919d733a45ae525de3dc7e85afb62\", element=\"5933935a-7d9a-440a-88b5-a02c32e983fe\")>,\n",
       " <selenium.webdriver.remote.webelement.WebElement (session=\"3f5919d733a45ae525de3dc7e85afb62\", element=\"ba2851ec-ce9b-4f78-93b0-a9bb4d7c86fc\")>,\n",
       " <selenium.webdriver.remote.webelement.WebElement (session=\"3f5919d733a45ae525de3dc7e85afb62\", element=\"65e92d94-2bd7-4a5f-8a7a-259aa9e2c418\")>,\n",
       " <selenium.webdriver.remote.webelement.WebElement (session=\"3f5919d733a45ae525de3dc7e85afb62\", element=\"531cd389-2991-4f0f-aa05-cca78077e70f\")>]"
      ]
     },
     "execution_count": 14,
     "metadata": {},
     "output_type": "execute_result"
    }
   ],
   "source": [
    "locations_tags=driver.find_elements(By.XPATH,\"//li[@class='fleft grey-text br2 placeHolderLi location']/span\")\n",
    "locations_tags"
   ]
  },
  {
   "cell_type": "code",
   "execution_count": 15,
   "metadata": {},
   "outputs": [
    {
     "data": {
      "text/plain": [
       "['Bangalore/Bengaluru',\n",
       " 'Bangalore/Bengaluru',\n",
       " 'Bangalore/Bengaluru',\n",
       " 'Bangalore/Bengaluru',\n",
       " 'Bangalore/Bengaluru',\n",
       " 'Bangalore/Bengaluru',\n",
       " 'Bangalore/Bengaluru',\n",
       " 'Bangalore/Bengaluru',\n",
       " 'Bangalore/Bengaluru',\n",
       " 'Bangalore/Bengaluru']"
      ]
     },
     "execution_count": 15,
     "metadata": {},
     "output_type": "execute_result"
    }
   ],
   "source": [
    "locations_list=[]\n",
    "for i in locations_tags:\n",
    "    locations_list.append(i.text)\n",
    "locations_list[:10]    "
   ]
  },
  {
   "cell_type": "code",
   "execution_count": 16,
   "metadata": {},
   "outputs": [
    {
     "name": "stdout",
     "output_type": "stream",
     "text": [
      "10\n",
      "10\n",
      "10\n",
      "10\n"
     ]
    },
    {
     "data": {
      "text/plain": [
       "(None, None, None, None)"
      ]
     },
     "execution_count": 16,
     "metadata": {},
     "output_type": "execute_result"
    }
   ],
   "source": [
    "#So lets check th length of ech element.\n",
    "print(len(job_titles[:10])),print(len(companies_names[:10])),print(len(experience_list[:10])),print(len(locations_list[:10]))"
   ]
  },
  {
   "cell_type": "markdown",
   "metadata": {},
   "source": [
    "# Creating a DataFarme for the Data Analyst jobs"
   ]
  },
  {
   "cell_type": "code",
   "execution_count": 17,
   "metadata": {},
   "outputs": [],
   "source": [
    "jobs=pd.DataFrame({})\n",
    "jobs['title']=job_titles[:10]\n",
    "jobs['company']=companies_names[:10]\n",
    "jobs['experience_required']=experience_list[:10]\n",
    "jobs['location']=locations_list[:10]"
   ]
  },
  {
   "cell_type": "code",
   "execution_count": 18,
   "metadata": {},
   "outputs": [
    {
     "data": {
      "text/html": [
       "<div>\n",
       "<style scoped>\n",
       "    .dataframe tbody tr th:only-of-type {\n",
       "        vertical-align: middle;\n",
       "    }\n",
       "\n",
       "    .dataframe tbody tr th {\n",
       "        vertical-align: top;\n",
       "    }\n",
       "\n",
       "    .dataframe thead th {\n",
       "        text-align: right;\n",
       "    }\n",
       "</style>\n",
       "<table border=\"1\" class=\"dataframe\">\n",
       "  <thead>\n",
       "    <tr style=\"text-align: right;\">\n",
       "      <th></th>\n",
       "      <th>title</th>\n",
       "      <th>company</th>\n",
       "      <th>experience_required</th>\n",
       "      <th>location</th>\n",
       "    </tr>\n",
       "  </thead>\n",
       "  <tbody>\n",
       "    <tr>\n",
       "      <th>0</th>\n",
       "      <td>Data Analyst</td>\n",
       "      <td>Cargill</td>\n",
       "      <td>3-5 Yrs</td>\n",
       "      <td>Bangalore/Bengaluru</td>\n",
       "    </tr>\n",
       "    <tr>\n",
       "      <th>1</th>\n",
       "      <td>APRP Manager / Senior Data Analyst - MeritTrac...</td>\n",
       "      <td>MeritTrac</td>\n",
       "      <td>9-14 Yrs</td>\n",
       "      <td>Bangalore/Bengaluru</td>\n",
       "    </tr>\n",
       "    <tr>\n",
       "      <th>2</th>\n",
       "      <td>Sr Data Analyst</td>\n",
       "      <td>Inspira Enterprise India Pvt. Ltd.</td>\n",
       "      <td>3-4 Yrs</td>\n",
       "      <td>Bangalore/Bengaluru</td>\n",
       "    </tr>\n",
       "    <tr>\n",
       "      <th>3</th>\n",
       "      <td>Senior Data Management Analyst</td>\n",
       "      <td>Wells Fargo</td>\n",
       "      <td>5-7 Yrs</td>\n",
       "      <td>Bangalore/Bengaluru</td>\n",
       "    </tr>\n",
       "    <tr>\n",
       "      <th>4</th>\n",
       "      <td>Senior Data Analyst - PLM Data Migration</td>\n",
       "      <td>CGI</td>\n",
       "      <td>3-6 Yrs</td>\n",
       "      <td>Bangalore/Bengaluru</td>\n",
       "    </tr>\n",
       "    <tr>\n",
       "      <th>5</th>\n",
       "      <td>People Data Analyst</td>\n",
       "      <td>Western Digital</td>\n",
       "      <td>6-8 Yrs</td>\n",
       "      <td>Bangalore/Bengaluru</td>\n",
       "    </tr>\n",
       "    <tr>\n",
       "      <th>6</th>\n",
       "      <td>Associate Healthcare Research &amp; Data Analyst</td>\n",
       "      <td>Clarivate</td>\n",
       "      <td>3-4 Yrs</td>\n",
       "      <td>Bangalore/Bengaluru</td>\n",
       "    </tr>\n",
       "    <tr>\n",
       "      <th>7</th>\n",
       "      <td>Lead Data Analyst</td>\n",
       "      <td>Mobile Premier League (MPL)</td>\n",
       "      <td>4-7 Yrs</td>\n",
       "      <td>Bangalore/Bengaluru</td>\n",
       "    </tr>\n",
       "    <tr>\n",
       "      <th>8</th>\n",
       "      <td>Contractual Hiring For Top MNC || Business Dat...</td>\n",
       "      <td>TeamLease</td>\n",
       "      <td>5-8 Yrs</td>\n",
       "      <td>Bangalore/Bengaluru</td>\n",
       "    </tr>\n",
       "    <tr>\n",
       "      <th>9</th>\n",
       "      <td>Master Data Management Business Analyst</td>\n",
       "      <td>Accenture</td>\n",
       "      <td>6-8 Yrs</td>\n",
       "      <td>Bangalore/Bengaluru</td>\n",
       "    </tr>\n",
       "  </tbody>\n",
       "</table>\n",
       "</div>"
      ],
      "text/plain": [
       "                                               title  \\\n",
       "0                                       Data Analyst   \n",
       "1  APRP Manager / Senior Data Analyst - MeritTrac...   \n",
       "2                                    Sr Data Analyst   \n",
       "3                     Senior Data Management Analyst   \n",
       "4           Senior Data Analyst - PLM Data Migration   \n",
       "5                                People Data Analyst   \n",
       "6       Associate Healthcare Research & Data Analyst   \n",
       "7                                  Lead Data Analyst   \n",
       "8  Contractual Hiring For Top MNC || Business Dat...   \n",
       "9            Master Data Management Business Analyst   \n",
       "\n",
       "                              company experience_required             location  \n",
       "0                             Cargill             3-5 Yrs  Bangalore/Bengaluru  \n",
       "1                           MeritTrac            9-14 Yrs  Bangalore/Bengaluru  \n",
       "2  Inspira Enterprise India Pvt. Ltd.             3-4 Yrs  Bangalore/Bengaluru  \n",
       "3                         Wells Fargo             5-7 Yrs  Bangalore/Bengaluru  \n",
       "4                                 CGI             3-6 Yrs  Bangalore/Bengaluru  \n",
       "5                     Western Digital             6-8 Yrs  Bangalore/Bengaluru  \n",
       "6                           Clarivate             3-4 Yrs  Bangalore/Bengaluru  \n",
       "7         Mobile Premier League (MPL)             4-7 Yrs  Bangalore/Bengaluru  \n",
       "8                           TeamLease             5-8 Yrs  Bangalore/Bengaluru  \n",
       "9                           Accenture             6-8 Yrs  Bangalore/Bengaluru  "
      ]
     },
     "execution_count": 18,
     "metadata": {},
     "output_type": "execute_result"
    }
   ],
   "source": [
    "jobs"
   ]
  },
  {
   "cell_type": "markdown",
   "metadata": {},
   "source": [
    "We can see that we have created the datset named jobs."
   ]
  },
  {
   "cell_type": "code",
   "execution_count": 19,
   "metadata": {},
   "outputs": [],
   "source": [
    "driver.close()"
   ]
  },
  {
   "cell_type": "code",
   "execution_count": 20,
   "metadata": {},
   "outputs": [],
   "source": [
    "from selenium.common.exceptions import NoSuchElementException"
   ]
  },
  {
   "cell_type": "markdown",
   "metadata": {},
   "source": [
    "# Ques 2"
   ]
  },
  {
   "cell_type": "markdown",
   "metadata": {},
   "source": [
    "Write a python program to scrape data for “Data Scientist” Job position in “Bangalore” location. You\n",
    "have to scrape the job-title, job-location, company_name. You have to scrape first 10 jobs data. This task will be done in following steps:\n",
    "\n",
    "1. First get the webpage https://www.naukri.com/\n",
    "2. Enter “Data Scientist” in “Skill, Designations, Companies” field and enter “Bangalore” in “enter the location” field.\n",
    "3. Then click the search button.\n",
    "4. Then scrape the data for the first 10 jobs results you get.\n",
    "5. Finally create a dataframe of the scraped data."
   ]
  },
  {
   "cell_type": "code",
   "execution_count": 21,
   "metadata": {},
   "outputs": [],
   "source": [
    "# let's first connect to the web driver\n",
    "driver = webdriver.Chrome(r'C:\\Users\\VAIO\\Downloads\\chromedriver.exe')"
   ]
  },
  {
   "cell_type": "code",
   "execution_count": 22,
   "metadata": {},
   "outputs": [],
   "source": [
    "url = \"https://www.naukri.com\"\n",
    "driver.get(url)"
   ]
  },
  {
   "cell_type": "code",
   "execution_count": 23,
   "metadata": {},
   "outputs": [
    {
     "data": {
      "text/plain": [
       "<selenium.webdriver.remote.webelement.WebElement (session=\"cb9b5cc43f3797369df7679380c0194f\", element=\"62b3d61b-4eb7-44dc-8f6e-9868cbd755f2\")>"
      ]
     },
     "execution_count": 23,
     "metadata": {},
     "output_type": "execute_result"
    }
   ],
   "source": [
    "# finding element for job search bar\n",
    "search_job = driver.find_element(By.XPATH, \"//input[@class='suggestor-input ']\")\n",
    "search_job"
   ]
  },
  {
   "cell_type": "code",
   "execution_count": 24,
   "metadata": {},
   "outputs": [],
   "source": [
    "# write on search bar\n",
    "search_job.send_keys('Data Scientist')"
   ]
  },
  {
   "cell_type": "code",
   "execution_count": 25,
   "metadata": {},
   "outputs": [],
   "source": [
    "# finding element for job location bar\n",
    "search_loc=driver.find_element(By.XPATH, '/html/body/div[1]/div[6]/div/div/div[5]/div/div/div/input')\n",
    "search_loc.send_keys(\"Bangalore\")"
   ]
  },
  {
   "cell_type": "code",
   "execution_count": 26,
   "metadata": {},
   "outputs": [],
   "source": [
    "search_btn= driver.find_element(By.CLASS_NAME, \"qsbSubmit\")\n",
    "search_btn.click()"
   ]
  },
  {
   "cell_type": "code",
   "execution_count": 27,
   "metadata": {
    "scrolled": true
   },
   "outputs": [
    {
     "name": "stdout",
     "output_type": "stream",
     "text": [
      "Analystics & Modeling Specialist\n",
      "Assistant Manager - Data Science\n",
      "Senior Data Scientist\n",
      "Program Manager, Analytics\n",
      "Data Scientist - Looking For Immediate Joiners\n",
      "Data Scientist\n",
      "Senior Data Scientist\n",
      "Data Scientist - II\n",
      "Lead ML Scientist\n",
      "Senior Data Scientist\n",
      "Python Programming Language Data Science Practitioner\n",
      "Industry X - Software Engineering\n",
      "Data Scientist: Artificial Intelligence\n",
      "ACN - Applied Intelligence - C4DI - Sustainability - 09\n",
      "Data Scientist\n",
      "Data Scientist\n",
      "Data Scientist\n",
      "ACN - Applied Intelligence - Data Scientist - 09\n",
      "Data Scientist - 2\n",
      "Data Scientist\n"
     ]
    }
   ],
   "source": [
    "#so let's extract all the tags having the job titles\n",
    "title_tags=driver.find_elements(By.XPATH, '//a[@class=\"title fw500 ellipsis\"]')\n",
    "for i in title_tags:\n",
    "    print(i.get_attribute('text'))"
   ]
  },
  {
   "cell_type": "code",
   "execution_count": 28,
   "metadata": {},
   "outputs": [
    {
     "data": {
      "text/plain": [
       "['Analystics & Modeling Specialist',\n",
       " 'Assistant Manager - Data Science',\n",
       " 'Senior Data Scientist',\n",
       " 'Program Manager, Analytics',\n",
       " 'Data Scientist - Looking For Immediate Joiners',\n",
       " 'Data Scientist',\n",
       " 'Senior Data Scientist',\n",
       " 'Data Scientist - II',\n",
       " 'Lead ML Scientist',\n",
       " 'Senior Data Scientist']"
      ]
     },
     "execution_count": 28,
     "metadata": {},
     "output_type": "execute_result"
    }
   ],
   "source": [
    "# extract the text of the job title  from the tags\n",
    "job1_titles=[]\n",
    "for i in title_tags:\n",
    "    if i.text is None:\n",
    "        job1_titles.append('Not')\n",
    "    else:\n",
    "        job1_titles.append(i.text)\n",
    "job1_titles[:10]    "
   ]
  },
  {
   "cell_type": "code",
   "execution_count": 29,
   "metadata": {
    "scrolled": true
   },
   "outputs": [
    {
     "data": {
      "text/plain": [
       "[<selenium.webdriver.remote.webelement.WebElement (session=\"cb9b5cc43f3797369df7679380c0194f\", element=\"fa82ad20-ec28-40ce-b4f8-caff26821181\")>,\n",
       " <selenium.webdriver.remote.webelement.WebElement (session=\"cb9b5cc43f3797369df7679380c0194f\", element=\"09bac0e8-5617-4681-9f33-4472b108f643\")>,\n",
       " <selenium.webdriver.remote.webelement.WebElement (session=\"cb9b5cc43f3797369df7679380c0194f\", element=\"81120254-43c3-41ec-89ed-ff6364561e39\")>,\n",
       " <selenium.webdriver.remote.webelement.WebElement (session=\"cb9b5cc43f3797369df7679380c0194f\", element=\"cf19aae7-ca3e-42a7-9898-febbdb14450f\")>,\n",
       " <selenium.webdriver.remote.webelement.WebElement (session=\"cb9b5cc43f3797369df7679380c0194f\", element=\"3046d0da-c1d0-4a45-a69e-a6d9eab67340\")>,\n",
       " <selenium.webdriver.remote.webelement.WebElement (session=\"cb9b5cc43f3797369df7679380c0194f\", element=\"98ccd4bb-b97e-4595-a964-63c008efd523\")>,\n",
       " <selenium.webdriver.remote.webelement.WebElement (session=\"cb9b5cc43f3797369df7679380c0194f\", element=\"ba2b1eb1-e95a-4327-9fee-3dd0d68558e2\")>,\n",
       " <selenium.webdriver.remote.webelement.WebElement (session=\"cb9b5cc43f3797369df7679380c0194f\", element=\"7ded232b-72c5-453f-8d44-bd67fcf07da3\")>,\n",
       " <selenium.webdriver.remote.webelement.WebElement (session=\"cb9b5cc43f3797369df7679380c0194f\", element=\"53923f5b-ac27-434d-a5bc-bfc77957987b\")>,\n",
       " <selenium.webdriver.remote.webelement.WebElement (session=\"cb9b5cc43f3797369df7679380c0194f\", element=\"eed83de8-7933-4b65-b5e0-8ec7b7f96cb3\")>,\n",
       " <selenium.webdriver.remote.webelement.WebElement (session=\"cb9b5cc43f3797369df7679380c0194f\", element=\"3509d198-a747-464f-9507-3ab7ef6902b7\")>,\n",
       " <selenium.webdriver.remote.webelement.WebElement (session=\"cb9b5cc43f3797369df7679380c0194f\", element=\"e79e8bbf-32dc-47a9-ade8-8eb4fdcec8f5\")>,\n",
       " <selenium.webdriver.remote.webelement.WebElement (session=\"cb9b5cc43f3797369df7679380c0194f\", element=\"818c10df-4892-44f5-b2b8-90ee97c9f20d\")>,\n",
       " <selenium.webdriver.remote.webelement.WebElement (session=\"cb9b5cc43f3797369df7679380c0194f\", element=\"b471ff14-4d99-4188-9b70-f54ec8a3df6d\")>,\n",
       " <selenium.webdriver.remote.webelement.WebElement (session=\"cb9b5cc43f3797369df7679380c0194f\", element=\"915afce9-59a3-4000-8065-d3fd63df7b65\")>,\n",
       " <selenium.webdriver.remote.webelement.WebElement (session=\"cb9b5cc43f3797369df7679380c0194f\", element=\"db71b6c4-5fed-4afe-81a1-8b3552fae4fa\")>,\n",
       " <selenium.webdriver.remote.webelement.WebElement (session=\"cb9b5cc43f3797369df7679380c0194f\", element=\"a76919aa-77b7-47d7-bd33-9cbaa8c395af\")>,\n",
       " <selenium.webdriver.remote.webelement.WebElement (session=\"cb9b5cc43f3797369df7679380c0194f\", element=\"01609661-a184-4ce9-ac9c-5f5674faf349\")>,\n",
       " <selenium.webdriver.remote.webelement.WebElement (session=\"cb9b5cc43f3797369df7679380c0194f\", element=\"247e7db4-3175-4088-8eee-790c53f2428e\")>,\n",
       " <selenium.webdriver.remote.webelement.WebElement (session=\"cb9b5cc43f3797369df7679380c0194f\", element=\"5d17fed1-c80e-4565-aef5-418c40987559\")>]"
      ]
     },
     "execution_count": 29,
     "metadata": {},
     "output_type": "execute_result"
    }
   ],
   "source": [
    "# lets extract all the tags having company names\n",
    "\n",
    "company_tag = driver.find_elements(By.XPATH,\"//a[@class='subTitle ellipsis fleft']\")\n",
    "company_tag"
   ]
  },
  {
   "cell_type": "code",
   "execution_count": 30,
   "metadata": {},
   "outputs": [
    {
     "data": {
      "text/plain": [
       "['Accenture',\n",
       " 'Citiustech',\n",
       " 'Wipro',\n",
       " 'Uber',\n",
       " 'Wipro',\n",
       " 'Altair',\n",
       " 'Boston Consulting Group',\n",
       " 'Bizongo',\n",
       " 'Fractal Analytics',\n",
       " 'Baker Hughes']"
      ]
     },
     "execution_count": 30,
     "metadata": {},
     "output_type": "execute_result"
    }
   ],
   "source": [
    "# Now we will extract the text from the tags by looping over these tags\n",
    "companies1_names=[]\n",
    "\n",
    "for i in company_tag:\n",
    "    companies1_names.append(i.text)\n",
    "companies1_names[:10]    "
   ]
  },
  {
   "cell_type": "code",
   "execution_count": 31,
   "metadata": {
    "scrolled": true
   },
   "outputs": [
    {
     "data": {
      "text/plain": [
       "[<selenium.webdriver.remote.webelement.WebElement (session=\"cb9b5cc43f3797369df7679380c0194f\", element=\"7ad09cb2-a451-410d-a673-cfb5cd3e7d6b\")>,\n",
       " <selenium.webdriver.remote.webelement.WebElement (session=\"cb9b5cc43f3797369df7679380c0194f\", element=\"da99f1f6-eddf-4750-ba3c-c59754718f1c\")>,\n",
       " <selenium.webdriver.remote.webelement.WebElement (session=\"cb9b5cc43f3797369df7679380c0194f\", element=\"e66972a2-451b-4b69-a7e3-04365e9f9fa8\")>,\n",
       " <selenium.webdriver.remote.webelement.WebElement (session=\"cb9b5cc43f3797369df7679380c0194f\", element=\"1c70ea66-42cc-4be4-8d26-a95b4b9f6f53\")>,\n",
       " <selenium.webdriver.remote.webelement.WebElement (session=\"cb9b5cc43f3797369df7679380c0194f\", element=\"263b1175-a335-4174-b3c4-5cbf579c9962\")>,\n",
       " <selenium.webdriver.remote.webelement.WebElement (session=\"cb9b5cc43f3797369df7679380c0194f\", element=\"b07b21e6-ca95-4819-977b-11741b8b5620\")>,\n",
       " <selenium.webdriver.remote.webelement.WebElement (session=\"cb9b5cc43f3797369df7679380c0194f\", element=\"07ed171f-ec08-4975-a6e3-c9930ee9dcfa\")>,\n",
       " <selenium.webdriver.remote.webelement.WebElement (session=\"cb9b5cc43f3797369df7679380c0194f\", element=\"07033a91-f577-4049-8c6d-388482fb74bf\")>,\n",
       " <selenium.webdriver.remote.webelement.WebElement (session=\"cb9b5cc43f3797369df7679380c0194f\", element=\"3fe561ea-1a51-4ef7-9080-e06719c55657\")>,\n",
       " <selenium.webdriver.remote.webelement.WebElement (session=\"cb9b5cc43f3797369df7679380c0194f\", element=\"e99a848e-991e-40b5-bd70-5def5104d5f9\")>,\n",
       " <selenium.webdriver.remote.webelement.WebElement (session=\"cb9b5cc43f3797369df7679380c0194f\", element=\"48115ef7-b7a5-460a-90bf-6bf8ec5edf31\")>,\n",
       " <selenium.webdriver.remote.webelement.WebElement (session=\"cb9b5cc43f3797369df7679380c0194f\", element=\"abdf8c16-98f1-4d36-8488-75260aeb27d7\")>,\n",
       " <selenium.webdriver.remote.webelement.WebElement (session=\"cb9b5cc43f3797369df7679380c0194f\", element=\"08b0aa49-42fe-4b45-8953-8a5e161d9f86\")>,\n",
       " <selenium.webdriver.remote.webelement.WebElement (session=\"cb9b5cc43f3797369df7679380c0194f\", element=\"8636aea9-b589-4a9c-8c49-47f74a0e65f2\")>,\n",
       " <selenium.webdriver.remote.webelement.WebElement (session=\"cb9b5cc43f3797369df7679380c0194f\", element=\"160ed52c-4a80-455a-bce5-e5892f1c2fd3\")>,\n",
       " <selenium.webdriver.remote.webelement.WebElement (session=\"cb9b5cc43f3797369df7679380c0194f\", element=\"1fde5c6b-ed32-487d-a6e1-4faa58791254\")>,\n",
       " <selenium.webdriver.remote.webelement.WebElement (session=\"cb9b5cc43f3797369df7679380c0194f\", element=\"e0513a5b-566f-4720-8388-7e4d4d62285c\")>,\n",
       " <selenium.webdriver.remote.webelement.WebElement (session=\"cb9b5cc43f3797369df7679380c0194f\", element=\"9843e6b9-533f-4918-b906-103622c4d6cd\")>,\n",
       " <selenium.webdriver.remote.webelement.WebElement (session=\"cb9b5cc43f3797369df7679380c0194f\", element=\"9c083440-c4ea-4b27-a711-37bb90dabe83\")>,\n",
       " <selenium.webdriver.remote.webelement.WebElement (session=\"cb9b5cc43f3797369df7679380c0194f\", element=\"0f405f84-e6f4-45c9-8af2-9b5c8b3c4d67\")>]"
      ]
     },
     "execution_count": 31,
     "metadata": {},
     "output_type": "execute_result"
    }
   ],
   "source": [
    "# lets extract all the tags having locations\n",
    "locations_tag=driver.find_elements(By.XPATH,\"//li[@class='fleft grey-text br2 placeHolderLi location']/span\")\n",
    "locations_tag"
   ]
  },
  {
   "cell_type": "code",
   "execution_count": 32,
   "metadata": {},
   "outputs": [
    {
     "data": {
      "text/plain": [
       "['Bangalore/Bengaluru, Kolkata, Mumbai, Hyderabad/Secunderabad, Pune, Chennai',\n",
       " 'Hybrid - Bangalore/Bengaluru, Mumbai, Pune',\n",
       " 'Hybrid - Bangalore/Bengaluru, Pune, Chennai',\n",
       " 'Bangalore/Bengaluru',\n",
       " 'Hybrid - Bangalore/Bengaluru, Hyderabad/Secunderabad',\n",
       " 'Bangalore/Bengaluru, Hyderabad/Secunderabad, Pune, Chennai',\n",
       " 'Bangalore/Bengaluru, Mumbai, New Delhi, Chennai',\n",
       " 'Bangalore/Bengaluru, India, Mumbai (All Areas)',\n",
       " 'Bangalore/Bengaluru, Mumbai',\n",
       " 'Bangalore/Bengaluru, Mumbai']"
      ]
     },
     "execution_count": 32,
     "metadata": {},
     "output_type": "execute_result"
    }
   ],
   "source": [
    "locations1_list=[]\n",
    "for i in locations_tag:\n",
    "    locations1_list.append(i.text)\n",
    "locations1_list[:10]    "
   ]
  },
  {
   "cell_type": "code",
   "execution_count": 33,
   "metadata": {},
   "outputs": [
    {
     "name": "stdout",
     "output_type": "stream",
     "text": [
      "10\n",
      "10\n",
      "10\n"
     ]
    },
    {
     "data": {
      "text/plain": [
       "(None, None, None)"
      ]
     },
     "execution_count": 33,
     "metadata": {},
     "output_type": "execute_result"
    }
   ],
   "source": [
    "print(len(job1_titles[:10])),print(len(companies1_names[:10])),print(len(locations1_list[:10]))"
   ]
  },
  {
   "cell_type": "markdown",
   "metadata": {},
   "source": [
    "# Creating a dataframe for the Data Analyst Jobs"
   ]
  },
  {
   "cell_type": "code",
   "execution_count": 34,
   "metadata": {},
   "outputs": [],
   "source": [
    "job1=pd.DataFrame({})\n",
    "job1['title']=job1_titles[:10]\n",
    "job1['company_name']=companies1_names[:10]\n",
    "job1['location']=locations1_list[:10]"
   ]
  },
  {
   "cell_type": "code",
   "execution_count": 35,
   "metadata": {},
   "outputs": [
    {
     "data": {
      "text/html": [
       "<div>\n",
       "<style scoped>\n",
       "    .dataframe tbody tr th:only-of-type {\n",
       "        vertical-align: middle;\n",
       "    }\n",
       "\n",
       "    .dataframe tbody tr th {\n",
       "        vertical-align: top;\n",
       "    }\n",
       "\n",
       "    .dataframe thead th {\n",
       "        text-align: right;\n",
       "    }\n",
       "</style>\n",
       "<table border=\"1\" class=\"dataframe\">\n",
       "  <thead>\n",
       "    <tr style=\"text-align: right;\">\n",
       "      <th></th>\n",
       "      <th>title</th>\n",
       "      <th>company_name</th>\n",
       "      <th>location</th>\n",
       "    </tr>\n",
       "  </thead>\n",
       "  <tbody>\n",
       "    <tr>\n",
       "      <th>0</th>\n",
       "      <td>Analystics &amp; Modeling Specialist</td>\n",
       "      <td>Accenture</td>\n",
       "      <td>Bangalore/Bengaluru, Kolkata, Mumbai, Hyderaba...</td>\n",
       "    </tr>\n",
       "    <tr>\n",
       "      <th>1</th>\n",
       "      <td>Assistant Manager - Data Science</td>\n",
       "      <td>Citiustech</td>\n",
       "      <td>Hybrid - Bangalore/Bengaluru, Mumbai, Pune</td>\n",
       "    </tr>\n",
       "    <tr>\n",
       "      <th>2</th>\n",
       "      <td>Senior Data Scientist</td>\n",
       "      <td>Wipro</td>\n",
       "      <td>Hybrid - Bangalore/Bengaluru, Pune, Chennai</td>\n",
       "    </tr>\n",
       "    <tr>\n",
       "      <th>3</th>\n",
       "      <td>Program Manager, Analytics</td>\n",
       "      <td>Uber</td>\n",
       "      <td>Bangalore/Bengaluru</td>\n",
       "    </tr>\n",
       "    <tr>\n",
       "      <th>4</th>\n",
       "      <td>Data Scientist - Looking For Immediate Joiners</td>\n",
       "      <td>Wipro</td>\n",
       "      <td>Hybrid - Bangalore/Bengaluru, Hyderabad/Secund...</td>\n",
       "    </tr>\n",
       "    <tr>\n",
       "      <th>5</th>\n",
       "      <td>Data Scientist</td>\n",
       "      <td>Altair</td>\n",
       "      <td>Bangalore/Bengaluru, Hyderabad/Secunderabad, P...</td>\n",
       "    </tr>\n",
       "    <tr>\n",
       "      <th>6</th>\n",
       "      <td>Senior Data Scientist</td>\n",
       "      <td>Boston Consulting Group</td>\n",
       "      <td>Bangalore/Bengaluru, Mumbai, New Delhi, Chennai</td>\n",
       "    </tr>\n",
       "    <tr>\n",
       "      <th>7</th>\n",
       "      <td>Data Scientist - II</td>\n",
       "      <td>Bizongo</td>\n",
       "      <td>Bangalore/Bengaluru, India, Mumbai (All Areas)</td>\n",
       "    </tr>\n",
       "    <tr>\n",
       "      <th>8</th>\n",
       "      <td>Lead ML Scientist</td>\n",
       "      <td>Fractal Analytics</td>\n",
       "      <td>Bangalore/Bengaluru, Mumbai</td>\n",
       "    </tr>\n",
       "    <tr>\n",
       "      <th>9</th>\n",
       "      <td>Senior Data Scientist</td>\n",
       "      <td>Baker Hughes</td>\n",
       "      <td>Bangalore/Bengaluru, Mumbai</td>\n",
       "    </tr>\n",
       "  </tbody>\n",
       "</table>\n",
       "</div>"
      ],
      "text/plain": [
       "                                            title             company_name  \\\n",
       "0                Analystics & Modeling Specialist                Accenture   \n",
       "1                Assistant Manager - Data Science               Citiustech   \n",
       "2                           Senior Data Scientist                    Wipro   \n",
       "3                      Program Manager, Analytics                     Uber   \n",
       "4  Data Scientist - Looking For Immediate Joiners                    Wipro   \n",
       "5                                  Data Scientist                   Altair   \n",
       "6                           Senior Data Scientist  Boston Consulting Group   \n",
       "7                             Data Scientist - II                  Bizongo   \n",
       "8                               Lead ML Scientist        Fractal Analytics   \n",
       "9                           Senior Data Scientist             Baker Hughes   \n",
       "\n",
       "                                            location  \n",
       "0  Bangalore/Bengaluru, Kolkata, Mumbai, Hyderaba...  \n",
       "1         Hybrid - Bangalore/Bengaluru, Mumbai, Pune  \n",
       "2        Hybrid - Bangalore/Bengaluru, Pune, Chennai  \n",
       "3                                Bangalore/Bengaluru  \n",
       "4  Hybrid - Bangalore/Bengaluru, Hyderabad/Secund...  \n",
       "5  Bangalore/Bengaluru, Hyderabad/Secunderabad, P...  \n",
       "6    Bangalore/Bengaluru, Mumbai, New Delhi, Chennai  \n",
       "7     Bangalore/Bengaluru, India, Mumbai (All Areas)  \n",
       "8                        Bangalore/Bengaluru, Mumbai  \n",
       "9                        Bangalore/Bengaluru, Mumbai  "
      ]
     },
     "execution_count": 35,
     "metadata": {},
     "output_type": "execute_result"
    }
   ],
   "source": [
    "job1"
   ]
  },
  {
   "cell_type": "markdown",
   "metadata": {},
   "source": [
    "So here we can see that we have created the dataset for Data scientist jobs named job1."
   ]
  },
  {
   "cell_type": "code",
   "execution_count": 36,
   "metadata": {},
   "outputs": [],
   "source": [
    "driver.close()"
   ]
  },
  {
   "cell_type": "markdown",
   "metadata": {},
   "source": [
    "# Ques 3"
   ]
  },
  {
   "cell_type": "markdown",
   "metadata": {},
   "source": [
    "Q3: In this question you have to scrape data using the filters available on the \n",
    "webpage as shown below:"
   ]
  },
  {
   "cell_type": "markdown",
   "metadata": {},
   "source": [
    "You have to use the location and salary filter.\n",
    "You have to scrape data for “Data Scientist” designation for first 10 job results. You have to scrape the job-title, job-location, company name, experience required.\n",
    "The location filter to be used is “Delhi/NCR”. The salary filter to be used is “3-6” lakhs\n",
    "The task will be done as shown in the below steps:\n",
    "\n",
    "1. first get the webpage https://www.naukri.com/\n",
    "2. Enter “Data Scientist” in “Skill, Designations, and Companies” field.\n",
    "3. Then click the search button.\n",
    "4. Then apply the location filter and salary filter by checking the respective boxes\n",
    "5. Then scrape the data for the first 10 jobs results you get.\n",
    "6. Finally create a dataframe of the scraped data."
   ]
  },
  {
   "cell_type": "code",
   "execution_count": 37,
   "metadata": {},
   "outputs": [],
   "source": [
    "# let's first connect to the web driver\n",
    "driver = webdriver.Chrome(r'C:\\Users\\VAIO\\Downloads\\chromedriver.exe')"
   ]
  },
  {
   "cell_type": "code",
   "execution_count": 38,
   "metadata": {},
   "outputs": [],
   "source": [
    "url = \"https://www.naukri.com\"\n",
    "driver.get(url)"
   ]
  },
  {
   "cell_type": "code",
   "execution_count": 39,
   "metadata": {},
   "outputs": [
    {
     "data": {
      "text/plain": [
       "<selenium.webdriver.remote.webelement.WebElement (session=\"48ac3dbdfdd2692e16e9db2f86afda68\", element=\"85134eee-f2e8-4df4-9d4d-c107e0065023\")>"
      ]
     },
     "execution_count": 39,
     "metadata": {},
     "output_type": "execute_result"
    }
   ],
   "source": [
    "# finding element for job search bar\n",
    "search_job = driver.find_element(By.CLASS_NAME, 'suggestor-input ')\n",
    "search_job"
   ]
  },
  {
   "cell_type": "code",
   "execution_count": 40,
   "metadata": {},
   "outputs": [],
   "source": [
    "# write on search bar\n",
    "search_job.send_keys('Data Scientist')"
   ]
  },
  {
   "cell_type": "code",
   "execution_count": 41,
   "metadata": {},
   "outputs": [],
   "source": [
    "# clicking using xpath function\n",
    "search_btn= driver.find_element(By.XPATH, \"//div[@class='qsbSubmit']\")\n",
    "search_btn.click()"
   ]
  },
  {
   "cell_type": "code",
   "execution_count": 43,
   "metadata": {},
   "outputs": [],
   "source": [
    "# filtering by clicking the checkbox of Delhi/NCR\n",
    "driver.find_element(By.XPATH, '/html/body/div[1]/div[4]/div/section[1]/div[2]/div[5]/div[2]/div[2]/label/i').click()"
   ]
  },
  {
   "cell_type": "code",
   "execution_count": 44,
   "metadata": {},
   "outputs": [],
   "source": [
    "# filtering by clicking the checkbox of 3-6 Lakhs\n",
    "driver.find_element(By.XPATH, '/html/body/div[1]/div[4]/div/section[1]/div[2]/div[6]/div[2]/div[2]/label/i').click()"
   ]
  },
  {
   "cell_type": "code",
   "execution_count": 45,
   "metadata": {
    "scrolled": true
   },
   "outputs": [
    {
     "name": "stdout",
     "output_type": "stream",
     "text": [
      "Data Scientist\n",
      "DigitalBCG GAMMA Data Scientist\n",
      "Urgent hiring For Data Scientist (PHD Must Have)\n",
      "Manager - Data Science - Banking&Financial Services - IIM/ISB/MDI/FMS\n",
      "Data Scientist / Sr. Data Scientist\n",
      "Data Scientist\n",
      "Data Scientist\n",
      "Data Scientist\n",
      "Data scientist- Python\n",
      "Data Scientist\n",
      "Senior Data Scientist - Python (f/m/x)\n"
     ]
    }
   ],
   "source": [
    "#so let's extract all the tags having the job titles\n",
    "title_t1=driver.find_elements(By.XPATH, '//a[@class=\"title fw500 ellipsis\"]')\n",
    "for i in title_t1:\n",
    "    print(i.get_attribute('text'))"
   ]
  },
  {
   "cell_type": "code",
   "execution_count": 46,
   "metadata": {},
   "outputs": [
    {
     "data": {
      "text/plain": [
       "['Data Scientist',\n",
       " 'DigitalBCG GAMMA Data Scientist',\n",
       " 'Urgent hiring For Data Scientist (PHD Must Have)',\n",
       " 'Manager - Data Science - Banking&Financial Services - IIM/ISB/MDI/FMS',\n",
       " 'Data Scientist / Sr. Data Scientist',\n",
       " 'Data Scientist',\n",
       " 'Data Scientist',\n",
       " 'Data Scientist',\n",
       " 'Data scientist- Python',\n",
       " 'Data Scientist']"
      ]
     },
     "execution_count": 46,
     "metadata": {},
     "output_type": "execute_result"
    }
   ],
   "source": [
    "# extract the text of the job title  from the tags\n",
    "job_titles=[]\n",
    "for i in title_t1:\n",
    "    if i.text is None:\n",
    "        job_titles.append('Not')\n",
    "    else:\n",
    "        job_titles.append(i.text)\n",
    "job_titles[:10]        "
   ]
  },
  {
   "cell_type": "code",
   "execution_count": 47,
   "metadata": {
    "scrolled": true
   },
   "outputs": [
    {
     "data": {
      "text/plain": [
       "[<selenium.webdriver.remote.webelement.WebElement (session=\"48ac3dbdfdd2692e16e9db2f86afda68\", element=\"70160c43-d542-4e70-a2e5-7c08efac4a3d\")>,\n",
       " <selenium.webdriver.remote.webelement.WebElement (session=\"48ac3dbdfdd2692e16e9db2f86afda68\", element=\"3eaf049c-96e5-4dd9-a762-c57614f1cb95\")>,\n",
       " <selenium.webdriver.remote.webelement.WebElement (session=\"48ac3dbdfdd2692e16e9db2f86afda68\", element=\"162dfd68-cc43-49a8-9b40-0163ef7cf77a\")>,\n",
       " <selenium.webdriver.remote.webelement.WebElement (session=\"48ac3dbdfdd2692e16e9db2f86afda68\", element=\"8d4d088f-5583-416b-b4c7-e420258f6309\")>,\n",
       " <selenium.webdriver.remote.webelement.WebElement (session=\"48ac3dbdfdd2692e16e9db2f86afda68\", element=\"fc56503c-e59a-476d-a45a-2b6ec9e239db\")>,\n",
       " <selenium.webdriver.remote.webelement.WebElement (session=\"48ac3dbdfdd2692e16e9db2f86afda68\", element=\"f9cfbad3-fc5c-41a3-8e7b-de77176696b4\")>,\n",
       " <selenium.webdriver.remote.webelement.WebElement (session=\"48ac3dbdfdd2692e16e9db2f86afda68\", element=\"14c7ddbe-4cc2-4426-a089-7331eb402769\")>,\n",
       " <selenium.webdriver.remote.webelement.WebElement (session=\"48ac3dbdfdd2692e16e9db2f86afda68\", element=\"15d58928-15b6-415a-ad02-088b80a2f0f9\")>,\n",
       " <selenium.webdriver.remote.webelement.WebElement (session=\"48ac3dbdfdd2692e16e9db2f86afda68\", element=\"fdaa8396-62a8-4cd0-932c-a7760416ad57\")>,\n",
       " <selenium.webdriver.remote.webelement.WebElement (session=\"48ac3dbdfdd2692e16e9db2f86afda68\", element=\"9d964797-d1f6-4d00-bcdd-92f1f33fd2de\")>,\n",
       " <selenium.webdriver.remote.webelement.WebElement (session=\"48ac3dbdfdd2692e16e9db2f86afda68\", element=\"fe28a3ee-fcf5-4ca9-bbfd-50fe207dbd19\")>]"
      ]
     },
     "execution_count": 47,
     "metadata": {},
     "output_type": "execute_result"
    }
   ],
   "source": [
    "# lets extract all the tags having company names\n",
    "company_t1 = driver.find_elements(By.XPATH,\"//a[@class='subTitle ellipsis fleft']\")\n",
    "company_t1"
   ]
  },
  {
   "cell_type": "code",
   "execution_count": 48,
   "metadata": {
    "scrolled": true
   },
   "outputs": [
    {
     "data": {
      "text/plain": [
       "['HCLTech',\n",
       " 'Boston Consulting Group',\n",
       " 'NGI Ventures',\n",
       " 'Black Turtle',\n",
       " 'Wegarner Solutions',\n",
       " 'torcai digital media',\n",
       " 'Meon Technologies',\n",
       " 'Alliance Recruitment Agency',\n",
       " 'TeamPlus Staffing Solution Pvt Ltd',\n",
       " 'Razor Group GmbH']"
      ]
     },
     "execution_count": 48,
     "metadata": {},
     "output_type": "execute_result"
    }
   ],
   "source": [
    "# Now we will extract the text from the tags by looping over these tags\n",
    "companies_names=[]\n",
    "\n",
    "for i in company_t1:\n",
    "    companies_names.append(i.text)\n",
    "companies_names[:10]    "
   ]
  },
  {
   "cell_type": "code",
   "execution_count": 49,
   "metadata": {
    "scrolled": true
   },
   "outputs": [
    {
     "data": {
      "text/plain": [
       "[<selenium.webdriver.remote.webelement.WebElement (session=\"48ac3dbdfdd2692e16e9db2f86afda68\", element=\"f2749f1f-64c9-4ed2-9d18-7425d6be099d\")>,\n",
       " <selenium.webdriver.remote.webelement.WebElement (session=\"48ac3dbdfdd2692e16e9db2f86afda68\", element=\"6f3d7392-aad1-4451-b6d5-696cd5591a8b\")>,\n",
       " <selenium.webdriver.remote.webelement.WebElement (session=\"48ac3dbdfdd2692e16e9db2f86afda68\", element=\"9e2c6ccc-5dfe-4e47-b1d5-2a502b194acf\")>,\n",
       " <selenium.webdriver.remote.webelement.WebElement (session=\"48ac3dbdfdd2692e16e9db2f86afda68\", element=\"3f4be4d3-0016-413b-8f50-fbe77b5ddf07\")>,\n",
       " <selenium.webdriver.remote.webelement.WebElement (session=\"48ac3dbdfdd2692e16e9db2f86afda68\", element=\"a8798c5f-e2e7-4999-9f57-1ce88242d606\")>,\n",
       " <selenium.webdriver.remote.webelement.WebElement (session=\"48ac3dbdfdd2692e16e9db2f86afda68\", element=\"8e4f7930-6f0f-4060-b17c-e2ba1037ba3d\")>,\n",
       " <selenium.webdriver.remote.webelement.WebElement (session=\"48ac3dbdfdd2692e16e9db2f86afda68\", element=\"140d3c6e-ca05-440b-b7d7-a1527bfe8017\")>,\n",
       " <selenium.webdriver.remote.webelement.WebElement (session=\"48ac3dbdfdd2692e16e9db2f86afda68\", element=\"4d0ecac4-85f6-4d09-b053-749e85c3f8f3\")>,\n",
       " <selenium.webdriver.remote.webelement.WebElement (session=\"48ac3dbdfdd2692e16e9db2f86afda68\", element=\"e0eb1635-c989-456c-bc8b-bf1fbfa88ede\")>,\n",
       " <selenium.webdriver.remote.webelement.WebElement (session=\"48ac3dbdfdd2692e16e9db2f86afda68\", element=\"3e33d2d7-4c24-496e-bce9-ff00a25af16b\")>,\n",
       " <selenium.webdriver.remote.webelement.WebElement (session=\"48ac3dbdfdd2692e16e9db2f86afda68\", element=\"329ded09-8d66-465b-ad04-a22fcb84081a\")>]"
      ]
     },
     "execution_count": 49,
     "metadata": {},
     "output_type": "execute_result"
    }
   ],
   "source": [
    "# so lets extract  all the tags having the experience required data\n",
    "experience_t1=driver.find_elements(By.XPATH, \"//li[@class='fleft grey-text br2 placeHolderLi experience'] /span\")\n",
    "experience_t1"
   ]
  },
  {
   "cell_type": "code",
   "execution_count": 50,
   "metadata": {},
   "outputs": [
    {
     "data": {
      "text/plain": [
       "['4-9 Yrs',\n",
       " '2-5 Yrs',\n",
       " '0-4 Yrs',\n",
       " '4-8 Yrs',\n",
       " '3-8 Yrs',\n",
       " '2-7 Yrs',\n",
       " '2-5 Yrs',\n",
       " '3-4 Yrs',\n",
       " '3-6 Yrs',\n",
       " '2-3 Yrs']"
      ]
     },
     "execution_count": 50,
     "metadata": {},
     "output_type": "execute_result"
    }
   ],
   "source": [
    "# no we will extract the text  from these tags only by one by looping over these tags\n",
    "experience_list=[]\n",
    "for i in experience_t1:\n",
    "    experience_list.append(i.text)\n",
    "experience_list[:10]   "
   ]
  },
  {
   "cell_type": "code",
   "execution_count": 51,
   "metadata": {
    "scrolled": true
   },
   "outputs": [
    {
     "data": {
      "text/plain": [
       "[<selenium.webdriver.remote.webelement.WebElement (session=\"48ac3dbdfdd2692e16e9db2f86afda68\", element=\"53d265ce-17f9-4c84-9502-f2c2ac496673\")>,\n",
       " <selenium.webdriver.remote.webelement.WebElement (session=\"48ac3dbdfdd2692e16e9db2f86afda68\", element=\"f9eab344-2055-48c0-9ca0-60f539534a0d\")>,\n",
       " <selenium.webdriver.remote.webelement.WebElement (session=\"48ac3dbdfdd2692e16e9db2f86afda68\", element=\"fb47403b-6d77-4e4b-a9da-335f37283f4e\")>,\n",
       " <selenium.webdriver.remote.webelement.WebElement (session=\"48ac3dbdfdd2692e16e9db2f86afda68\", element=\"6ea69688-68cb-41bc-b45c-1141be2bfb6a\")>,\n",
       " <selenium.webdriver.remote.webelement.WebElement (session=\"48ac3dbdfdd2692e16e9db2f86afda68\", element=\"fbec85a3-adb3-4c07-9db7-0092e5708065\")>,\n",
       " <selenium.webdriver.remote.webelement.WebElement (session=\"48ac3dbdfdd2692e16e9db2f86afda68\", element=\"dfa8450b-1c14-4ba1-830c-8accd53c78e4\")>,\n",
       " <selenium.webdriver.remote.webelement.WebElement (session=\"48ac3dbdfdd2692e16e9db2f86afda68\", element=\"05ad0426-f8a2-4c2c-8d68-5df7d99ccac6\")>,\n",
       " <selenium.webdriver.remote.webelement.WebElement (session=\"48ac3dbdfdd2692e16e9db2f86afda68\", element=\"115ff01e-c4b9-4294-a70b-879c01740097\")>,\n",
       " <selenium.webdriver.remote.webelement.WebElement (session=\"48ac3dbdfdd2692e16e9db2f86afda68\", element=\"31bd9c3a-47c7-43ea-86c6-dccabda8008f\")>,\n",
       " <selenium.webdriver.remote.webelement.WebElement (session=\"48ac3dbdfdd2692e16e9db2f86afda68\", element=\"122205f4-9785-4eb2-9b0e-16cc678965bf\")>,\n",
       " <selenium.webdriver.remote.webelement.WebElement (session=\"48ac3dbdfdd2692e16e9db2f86afda68\", element=\"7171b1b1-c7a8-4cfe-b8ab-aab4d8b96f43\")>]"
      ]
     },
     "execution_count": 51,
     "metadata": {},
     "output_type": "execute_result"
    }
   ],
   "source": [
    "# So lets extract all the tags having locations\n",
    "locations_t1=driver.find_elements(By.XPATH, \"//li[@class='fleft grey-text br2 placeHolderLi location']/span\")\n",
    "locations_t1"
   ]
  },
  {
   "cell_type": "code",
   "execution_count": 52,
   "metadata": {},
   "outputs": [
    {
     "data": {
      "text/plain": [
       "['Noida, Hyderabad/Secunderabad, Chennai, Bangalore/Bengaluru',\n",
       " 'New Delhi, Bangalore/Bengaluru',\n",
       " 'Temp. WFH - Noida, Pune',\n",
       " 'Delhi / NCR, Bangalore/Bengaluru',\n",
       " 'Temp. WFH - Noida',\n",
       " 'Dehradun, Hyderabad/Secunderabad, Gurgaon/Gurugram',\n",
       " 'Noida',\n",
       " 'Noida',\n",
       " 'Gurgaon/Gurugram',\n",
       " 'New Delhi']"
      ]
     },
     "execution_count": 52,
     "metadata": {},
     "output_type": "execute_result"
    }
   ],
   "source": [
    "#Now we wil extract the text from these tags only by one by looping over these tags\n",
    "locations_list=[]\n",
    "for i in locations_t1:\n",
    "    locations_list.append(i.text)\n",
    "locations_list[:10]    "
   ]
  },
  {
   "cell_type": "code",
   "execution_count": 53,
   "metadata": {},
   "outputs": [
    {
     "name": "stdout",
     "output_type": "stream",
     "text": [
      "10\n",
      "10\n",
      "10\n",
      "10\n"
     ]
    },
    {
     "data": {
      "text/plain": [
       "(None, None, None, None)"
      ]
     },
     "execution_count": 53,
     "metadata": {},
     "output_type": "execute_result"
    }
   ],
   "source": [
    "#So lets check th length of ech element.\n",
    "print(len(job_titles[:10])),print(len(companies_names[:10])),print(len(experience_list[:10])),print(len(locations_list[:10]))"
   ]
  },
  {
   "cell_type": "markdown",
   "metadata": {},
   "source": [
    "# Creating a DataFarme for the Data Analyst jobs"
   ]
  },
  {
   "cell_type": "code",
   "execution_count": 54,
   "metadata": {},
   "outputs": [],
   "source": [
    "jobs2=pd.DataFrame({})\n",
    "jobs2['title']=job_titles[:10]\n",
    "jobs2['company']=companies_names[:10]\n",
    "jobs2['experience_required']=experience_list[:10]\n",
    "jobs2['location']=locations_list[:10]"
   ]
  },
  {
   "cell_type": "code",
   "execution_count": 55,
   "metadata": {},
   "outputs": [
    {
     "data": {
      "text/html": [
       "<div>\n",
       "<style scoped>\n",
       "    .dataframe tbody tr th:only-of-type {\n",
       "        vertical-align: middle;\n",
       "    }\n",
       "\n",
       "    .dataframe tbody tr th {\n",
       "        vertical-align: top;\n",
       "    }\n",
       "\n",
       "    .dataframe thead th {\n",
       "        text-align: right;\n",
       "    }\n",
       "</style>\n",
       "<table border=\"1\" class=\"dataframe\">\n",
       "  <thead>\n",
       "    <tr style=\"text-align: right;\">\n",
       "      <th></th>\n",
       "      <th>title</th>\n",
       "      <th>company</th>\n",
       "      <th>experience_required</th>\n",
       "      <th>location</th>\n",
       "    </tr>\n",
       "  </thead>\n",
       "  <tbody>\n",
       "    <tr>\n",
       "      <th>0</th>\n",
       "      <td>Data Scientist</td>\n",
       "      <td>HCLTech</td>\n",
       "      <td>4-9 Yrs</td>\n",
       "      <td>Noida, Hyderabad/Secunderabad, Chennai, Bangal...</td>\n",
       "    </tr>\n",
       "    <tr>\n",
       "      <th>1</th>\n",
       "      <td>DigitalBCG GAMMA Data Scientist</td>\n",
       "      <td>Boston Consulting Group</td>\n",
       "      <td>2-5 Yrs</td>\n",
       "      <td>New Delhi, Bangalore/Bengaluru</td>\n",
       "    </tr>\n",
       "    <tr>\n",
       "      <th>2</th>\n",
       "      <td>Urgent hiring For Data Scientist (PHD Must Have)</td>\n",
       "      <td>NGI Ventures</td>\n",
       "      <td>0-4 Yrs</td>\n",
       "      <td>Temp. WFH - Noida, Pune</td>\n",
       "    </tr>\n",
       "    <tr>\n",
       "      <th>3</th>\n",
       "      <td>Manager - Data Science - Banking&amp;Financial Ser...</td>\n",
       "      <td>Black Turtle</td>\n",
       "      <td>4-8 Yrs</td>\n",
       "      <td>Delhi / NCR, Bangalore/Bengaluru</td>\n",
       "    </tr>\n",
       "    <tr>\n",
       "      <th>4</th>\n",
       "      <td>Data Scientist / Sr. Data Scientist</td>\n",
       "      <td>Wegarner Solutions</td>\n",
       "      <td>3-8 Yrs</td>\n",
       "      <td>Temp. WFH - Noida</td>\n",
       "    </tr>\n",
       "    <tr>\n",
       "      <th>5</th>\n",
       "      <td>Data Scientist</td>\n",
       "      <td>torcai digital media</td>\n",
       "      <td>2-7 Yrs</td>\n",
       "      <td>Dehradun, Hyderabad/Secunderabad, Gurgaon/Guru...</td>\n",
       "    </tr>\n",
       "    <tr>\n",
       "      <th>6</th>\n",
       "      <td>Data Scientist</td>\n",
       "      <td>Meon Technologies</td>\n",
       "      <td>2-5 Yrs</td>\n",
       "      <td>Noida</td>\n",
       "    </tr>\n",
       "    <tr>\n",
       "      <th>7</th>\n",
       "      <td>Data Scientist</td>\n",
       "      <td>Alliance Recruitment Agency</td>\n",
       "      <td>3-4 Yrs</td>\n",
       "      <td>Noida</td>\n",
       "    </tr>\n",
       "    <tr>\n",
       "      <th>8</th>\n",
       "      <td>Data scientist- Python</td>\n",
       "      <td>TeamPlus Staffing Solution Pvt Ltd</td>\n",
       "      <td>3-6 Yrs</td>\n",
       "      <td>Gurgaon/Gurugram</td>\n",
       "    </tr>\n",
       "    <tr>\n",
       "      <th>9</th>\n",
       "      <td>Data Scientist</td>\n",
       "      <td>Razor Group GmbH</td>\n",
       "      <td>2-3 Yrs</td>\n",
       "      <td>New Delhi</td>\n",
       "    </tr>\n",
       "  </tbody>\n",
       "</table>\n",
       "</div>"
      ],
      "text/plain": [
       "                                               title  \\\n",
       "0                                     Data Scientist   \n",
       "1                    DigitalBCG GAMMA Data Scientist   \n",
       "2   Urgent hiring For Data Scientist (PHD Must Have)   \n",
       "3  Manager - Data Science - Banking&Financial Ser...   \n",
       "4                Data Scientist / Sr. Data Scientist   \n",
       "5                                     Data Scientist   \n",
       "6                                     Data Scientist   \n",
       "7                                     Data Scientist   \n",
       "8                             Data scientist- Python   \n",
       "9                                     Data Scientist   \n",
       "\n",
       "                              company experience_required  \\\n",
       "0                             HCLTech             4-9 Yrs   \n",
       "1             Boston Consulting Group             2-5 Yrs   \n",
       "2                        NGI Ventures             0-4 Yrs   \n",
       "3                        Black Turtle             4-8 Yrs   \n",
       "4                  Wegarner Solutions             3-8 Yrs   \n",
       "5                torcai digital media             2-7 Yrs   \n",
       "6                   Meon Technologies             2-5 Yrs   \n",
       "7         Alliance Recruitment Agency             3-4 Yrs   \n",
       "8  TeamPlus Staffing Solution Pvt Ltd             3-6 Yrs   \n",
       "9                    Razor Group GmbH             2-3 Yrs   \n",
       "\n",
       "                                            location  \n",
       "0  Noida, Hyderabad/Secunderabad, Chennai, Bangal...  \n",
       "1                     New Delhi, Bangalore/Bengaluru  \n",
       "2                            Temp. WFH - Noida, Pune  \n",
       "3                   Delhi / NCR, Bangalore/Bengaluru  \n",
       "4                                  Temp. WFH - Noida  \n",
       "5  Dehradun, Hyderabad/Secunderabad, Gurgaon/Guru...  \n",
       "6                                              Noida  \n",
       "7                                              Noida  \n",
       "8                                   Gurgaon/Gurugram  \n",
       "9                                          New Delhi  "
      ]
     },
     "execution_count": 55,
     "metadata": {},
     "output_type": "execute_result"
    }
   ],
   "source": [
    "jobs2"
   ]
  },
  {
   "cell_type": "markdown",
   "metadata": {},
   "source": [
    "We can see that we have created the dataset named jobs2."
   ]
  },
  {
   "cell_type": "code",
   "execution_count": 56,
   "metadata": {},
   "outputs": [],
   "source": [
    "driver.close()"
   ]
  },
  {
   "cell_type": "markdown",
   "metadata": {},
   "source": [
    "# Ques4"
   ]
  },
  {
   "cell_type": "markdown",
   "metadata": {},
   "source": [
    "Q4: Scrape data of first 100 sunglasses listings on flipkart.com. You have to scrape four attributes:\n",
    "1. Brand\n",
    "2. Product Description\n",
    "3. Price\n",
    "\n",
    "To scrape the data you have to go through following steps:\n",
    "1. Go to Flipkart webpage by url : https://www.flipkart.com/\n",
    "2. Enter “sunglasses” in the search field where “search for products, brands and more” is written and click the search icon\n",
    "3. After that you will reach to the page having a lot of sunglasses. From this page you can scrap the required data as usual.\n",
    "4. After scraping data from the first page, go to the “Next” Button at the bottom other page , then click on it.\n",
    "5. Now scrape data from this page as usual\n",
    "6. Repeat this until you get data for 100 sunglasses."
   ]
  },
  {
   "cell_type": "code",
   "execution_count": 57,
   "metadata": {},
   "outputs": [],
   "source": [
    "# let's first connect to the web driver\n",
    "driver = webdriver.Chrome(r'C:\\Users\\VAIO\\Downloads\\chromedriver.exe')"
   ]
  },
  {
   "cell_type": "code",
   "execution_count": 58,
   "metadata": {},
   "outputs": [],
   "source": [
    "url=\"https://www.flipkart.com/\"\n",
    "driver.get(url)"
   ]
  },
  {
   "cell_type": "code",
   "execution_count": 59,
   "metadata": {},
   "outputs": [],
   "source": [
    "# closing the login popup window\n",
    "driver.find_element(By.XPATH, '/html/body/div[2]/div/div/button').click()"
   ]
  },
  {
   "cell_type": "code",
   "execution_count": 60,
   "metadata": {},
   "outputs": [
    {
     "data": {
      "text/plain": [
       "<selenium.webdriver.remote.webelement.WebElement (session=\"72905bbd165acd3e78cc71085a4bc182\", element=\"f253d660-197d-48c1-b5ec-a52b83a387d8\")>"
      ]
     },
     "execution_count": 60,
     "metadata": {},
     "output_type": "execute_result"
    }
   ],
   "source": [
    "# finding element for job search bar\n",
    "search_g= driver.find_element(By.XPATH, \"//input[@type='text']\")\n",
    "search_g"
   ]
  },
  {
   "cell_type": "code",
   "execution_count": 61,
   "metadata": {},
   "outputs": [],
   "source": [
    "# write on search bar\n",
    "search_g.send_keys('sunglasses')"
   ]
  },
  {
   "cell_type": "code",
   "execution_count": 62,
   "metadata": {},
   "outputs": [],
   "source": [
    "search_btn=driver.find_element(By.CLASS_NAME, '_34RNph')\n",
    "search_btn.click()"
   ]
  },
  {
   "cell_type": "code",
   "execution_count": 63,
   "metadata": {},
   "outputs": [],
   "source": [
    "B_name=[]\n",
    "Price=[]\n",
    "P_desc=[]\n",
    "\n",
    "for i in range(3):\n",
    "    b_name=driver.find_elements(By.XPATH, \"//div[@class='_2WkVRV']\")\n",
    "    p_desc=driver.find_elements(By.XPATH, \"//a[@class='IRpwTa']\")\n",
    "    price =driver.find_elements(By.XPATH, \"//div[@class='_30jeq3']\")\n",
    "    \n",
    "    for j  in b_name:\n",
    "        B_name.append(j.text)\n",
    "    B_name[:100]    \n",
    "       \n",
    "    for k in p_desc:\n",
    "        P_desc.append(k.text)\n",
    "    P_desc[:100] \n",
    "      \n",
    "    for l in price:\n",
    "        Price.append(l.text)\n",
    "    Price[:100]"
   ]
  },
  {
   "cell_type": "code",
   "execution_count": 64,
   "metadata": {
    "scrolled": true
   },
   "outputs": [
    {
     "data": {
      "text/plain": [
       "['₹1,399',\n",
       " '₹227',\n",
       " '₹649',\n",
       " '₹519',\n",
       " '₹209',\n",
       " '₹629',\n",
       " '₹265',\n",
       " '₹299',\n",
       " '₹579',\n",
       " '₹149',\n",
       " '₹426',\n",
       " '₹474',\n",
       " '₹199',\n",
       " '₹265',\n",
       " '₹519',\n",
       " '₹283',\n",
       " '₹1,399',\n",
       " '₹575',\n",
       " '₹649',\n",
       " '₹176',\n",
       " '₹474',\n",
       " '₹190',\n",
       " '₹251',\n",
       " '₹649',\n",
       " '₹559',\n",
       " '₹197',\n",
       " '₹379',\n",
       " '₹379',\n",
       " '₹185',\n",
       " '₹649',\n",
       " '₹699',\n",
       " '₹222',\n",
       " '₹474',\n",
       " '₹323',\n",
       " '₹939',\n",
       " '₹318',\n",
       " '₹249',\n",
       " '₹296',\n",
       " '₹579',\n",
       " '₹499',\n",
       " '₹1,399',\n",
       " '₹227',\n",
       " '₹649',\n",
       " '₹519',\n",
       " '₹209',\n",
       " '₹629',\n",
       " '₹265',\n",
       " '₹299',\n",
       " '₹579',\n",
       " '₹149',\n",
       " '₹426',\n",
       " '₹474',\n",
       " '₹199',\n",
       " '₹265',\n",
       " '₹519',\n",
       " '₹283',\n",
       " '₹1,399',\n",
       " '₹575',\n",
       " '₹649',\n",
       " '₹176',\n",
       " '₹474',\n",
       " '₹190',\n",
       " '₹251',\n",
       " '₹649',\n",
       " '₹559',\n",
       " '₹197',\n",
       " '₹379',\n",
       " '₹379',\n",
       " '₹185',\n",
       " '₹649',\n",
       " '₹699',\n",
       " '₹222',\n",
       " '₹474',\n",
       " '₹323',\n",
       " '₹939',\n",
       " '₹318',\n",
       " '₹249',\n",
       " '₹296',\n",
       " '₹579',\n",
       " '₹499',\n",
       " '₹1,399',\n",
       " '₹227',\n",
       " '₹649',\n",
       " '₹519',\n",
       " '₹209',\n",
       " '₹629',\n",
       " '₹265',\n",
       " '₹299',\n",
       " '₹579',\n",
       " '₹149',\n",
       " '₹426',\n",
       " '₹474',\n",
       " '₹199',\n",
       " '₹265',\n",
       " '₹519',\n",
       " '₹283',\n",
       " '₹1,399',\n",
       " '₹575',\n",
       " '₹649',\n",
       " '₹176']"
      ]
     },
     "execution_count": 64,
     "metadata": {},
     "output_type": "execute_result"
    }
   ],
   "source": [
    "Price[:100]    "
   ]
  },
  {
   "cell_type": "code",
   "execution_count": 65,
   "metadata": {},
   "outputs": [
    {
     "name": "stdout",
     "output_type": "stream",
     "text": [
      "100\n",
      "100\n",
      "100\n"
     ]
    },
    {
     "data": {
      "text/plain": [
       "(None, None, None)"
      ]
     },
     "execution_count": 65,
     "metadata": {},
     "output_type": "execute_result"
    }
   ],
   "source": [
    "print(len(B_name[:100])),print(len(Price[:100])),print(len(P_desc[:100]))"
   ]
  },
  {
   "cell_type": "markdown",
   "metadata": {},
   "source": [
    "# Creating a dataframe of the above data"
   ]
  },
  {
   "cell_type": "code",
   "execution_count": 66,
   "metadata": {},
   "outputs": [],
   "source": [
    "sun_gl=pd.DataFrame({})\n",
    "sun_gl['Brand_name']=B_name[:100]\n",
    "sun_gl['P_price']=Price[:100]\n",
    "sun_gl['Pr_desc']=P_desc[:100]"
   ]
  },
  {
   "cell_type": "code",
   "execution_count": 67,
   "metadata": {},
   "outputs": [
    {
     "data": {
      "text/html": [
       "<div>\n",
       "<style scoped>\n",
       "    .dataframe tbody tr th:only-of-type {\n",
       "        vertical-align: middle;\n",
       "    }\n",
       "\n",
       "    .dataframe tbody tr th {\n",
       "        vertical-align: top;\n",
       "    }\n",
       "\n",
       "    .dataframe thead th {\n",
       "        text-align: right;\n",
       "    }\n",
       "</style>\n",
       "<table border=\"1\" class=\"dataframe\">\n",
       "  <thead>\n",
       "    <tr style=\"text-align: right;\">\n",
       "      <th></th>\n",
       "      <th>Brand_name</th>\n",
       "      <th>P_price</th>\n",
       "      <th>Pr_desc</th>\n",
       "    </tr>\n",
       "  </thead>\n",
       "  <tbody>\n",
       "    <tr>\n",
       "      <th>0</th>\n",
       "      <td>RESIST EYEWEAR</td>\n",
       "      <td>₹1,399</td>\n",
       "      <td>Polarized, Riding Glasses, UV Protection Wayfa...</td>\n",
       "    </tr>\n",
       "    <tr>\n",
       "      <th>1</th>\n",
       "      <td>DEXENT COLLECTION</td>\n",
       "      <td>₹227</td>\n",
       "      <td>UV Protection Oval Sunglasses (Free Size)</td>\n",
       "    </tr>\n",
       "    <tr>\n",
       "      <th>2</th>\n",
       "      <td>Fastrack</td>\n",
       "      <td>₹649</td>\n",
       "      <td>UV Protection Wayfarer Sunglasses (Free Size)</td>\n",
       "    </tr>\n",
       "    <tr>\n",
       "      <th>3</th>\n",
       "      <td>Fastrack</td>\n",
       "      <td>₹519</td>\n",
       "      <td>UV Protection Rectangular Sunglasses (Free Size)</td>\n",
       "    </tr>\n",
       "    <tr>\n",
       "      <th>4</th>\n",
       "      <td>PIRASO</td>\n",
       "      <td>₹209</td>\n",
       "      <td>UV Protection Rectangular Sunglasses (52)</td>\n",
       "    </tr>\n",
       "    <tr>\n",
       "      <th>...</th>\n",
       "      <td>...</td>\n",
       "      <td>...</td>\n",
       "      <td>...</td>\n",
       "    </tr>\n",
       "    <tr>\n",
       "      <th>95</th>\n",
       "      <td>SUNBEE</td>\n",
       "      <td>₹283</td>\n",
       "      <td>UV Protection, Polarized Wayfarer Sunglasses (...</td>\n",
       "    </tr>\n",
       "    <tr>\n",
       "      <th>96</th>\n",
       "      <td>Resist</td>\n",
       "      <td>₹1,399</td>\n",
       "      <td>Toughened Glass Lens, UV Protection, Riding Gl...</td>\n",
       "    </tr>\n",
       "    <tr>\n",
       "      <th>97</th>\n",
       "      <td>Singco India</td>\n",
       "      <td>₹575</td>\n",
       "      <td>Gradient, Toughened Glass Lens, UV Protection ...</td>\n",
       "    </tr>\n",
       "    <tr>\n",
       "      <th>98</th>\n",
       "      <td>Fastrack</td>\n",
       "      <td>₹649</td>\n",
       "      <td>UV Protection Shield Sunglasses (Free Size)</td>\n",
       "    </tr>\n",
       "    <tr>\n",
       "      <th>99</th>\n",
       "      <td>Elligator</td>\n",
       "      <td>₹176</td>\n",
       "      <td>UV Protection Cat-eye, Retro Square, Oval, Rou...</td>\n",
       "    </tr>\n",
       "  </tbody>\n",
       "</table>\n",
       "<p>100 rows × 3 columns</p>\n",
       "</div>"
      ],
      "text/plain": [
       "           Brand_name P_price  \\\n",
       "0      RESIST EYEWEAR  ₹1,399   \n",
       "1   DEXENT COLLECTION    ₹227   \n",
       "2            Fastrack    ₹649   \n",
       "3            Fastrack    ₹519   \n",
       "4              PIRASO    ₹209   \n",
       "..                ...     ...   \n",
       "95             SUNBEE    ₹283   \n",
       "96             Resist  ₹1,399   \n",
       "97       Singco India    ₹575   \n",
       "98           Fastrack    ₹649   \n",
       "99          Elligator    ₹176   \n",
       "\n",
       "                                              Pr_desc  \n",
       "0   Polarized, Riding Glasses, UV Protection Wayfa...  \n",
       "1           UV Protection Oval Sunglasses (Free Size)  \n",
       "2       UV Protection Wayfarer Sunglasses (Free Size)  \n",
       "3    UV Protection Rectangular Sunglasses (Free Size)  \n",
       "4           UV Protection Rectangular Sunglasses (52)  \n",
       "..                                                ...  \n",
       "95  UV Protection, Polarized Wayfarer Sunglasses (...  \n",
       "96  Toughened Glass Lens, UV Protection, Riding Gl...  \n",
       "97  Gradient, Toughened Glass Lens, UV Protection ...  \n",
       "98        UV Protection Shield Sunglasses (Free Size)  \n",
       "99  UV Protection Cat-eye, Retro Square, Oval, Rou...  \n",
       "\n",
       "[100 rows x 3 columns]"
      ]
     },
     "execution_count": 67,
     "metadata": {},
     "output_type": "execute_result"
    }
   ],
   "source": [
    "sun_gl"
   ]
  },
  {
   "cell_type": "markdown",
   "metadata": {},
   "source": [
    "We can see that we have created the dataframe."
   ]
  },
  {
   "cell_type": "code",
   "execution_count": 68,
   "metadata": {},
   "outputs": [],
   "source": [
    "driver.close()"
   ]
  },
  {
   "cell_type": "markdown",
   "metadata": {},
   "source": [
    "## Ques 5\n",
    "\n",
    "Scrape 100 reviews data from flipkart.com for iphone11 phone. \n",
    "You have to go the link: https://www.flipkart.com/apple-iphone-11-black-64-gb/product-reviews/itm4e5041ba101fd?pid=MOBFWQ6BXGJCEYNY&lid=LSTMOBFWQ6BXGJCEYNYZXSHRJ&marketplace=FLIPKART\n",
    "\n",
    "As shown in the above page you have to scrape the tick marked attributes. These are:\n",
    "\n",
    "1. Rating\n",
    "2. Review summary\n",
    "3. Full review\n",
    "4. You have to scrape this data for first 100 reviews."
   ]
  },
  {
   "cell_type": "code",
   "execution_count": 69,
   "metadata": {},
   "outputs": [],
   "source": [
    "# let's first connect to the web driver\n",
    "driver = webdriver.Chrome(r'C:\\Users\\VAIO\\Downloads\\chromedriver.exe')"
   ]
  },
  {
   "cell_type": "code",
   "execution_count": 70,
   "metadata": {},
   "outputs": [],
   "source": [
    "url=\"https://www.flipkart.com/apple-iphone-11-black-64-gb/product-reviews/itm4e5041ba101fd?pid=MOBFWQ6BXGJCEYNY&lid=LSTMOBFWQ6BXGJCEYNYZXSHRJ&marketplace=FLIPKART\"\n",
    "driver.get(url)"
   ]
  },
  {
   "cell_type": "code",
   "execution_count": 78,
   "metadata": {},
   "outputs": [],
   "source": [
    "Rating = []\n",
    "R_Summary = []\n",
    "Review = []\n",
    "\n",
    "for i in range(10):\n",
    "    rating = driver.find_elements(By.XPATH, \"//div[@class='_3LWZlK _1BLPMq']\")\n",
    "    summary = driver.find_elements(By.XPATH, \"//p[@class='_2-N8zT']\")\n",
    "    review = driver.find_elements(By.XPATH, \"//div[@class='t-ZTKy']/div\")\n",
    "    for j in rating:\n",
    "        if j.text is None:\n",
    "            Rating.append('Nil')\n",
    "        else:\n",
    "            Rating.append(j.text)\n",
    "    for k in summary:\n",
    "        if k.text is None:\n",
    "            R_Summary.append('Nil')\n",
    "        else:\n",
    "            R_Summary.append(k.text)\n",
    "    for l in review:\n",
    "        if l.text is None:\n",
    "            Review.append('Nil')\n",
    "        else:\n",
    "            Review.append(l.text)"
   ]
  },
  {
   "cell_type": "code",
   "execution_count": 80,
   "metadata": {},
   "outputs": [
    {
     "name": "stdout",
     "output_type": "stream",
     "text": [
      "100\n",
      "100\n",
      "100\n"
     ]
    },
    {
     "data": {
      "text/plain": [
       "(None, None, None)"
      ]
     },
     "execution_count": 80,
     "metadata": {},
     "output_type": "execute_result"
    }
   ],
   "source": [
    "print(len(Rating[:100])),print(len(R_Summary[:100])),print(len(Review[:100]))"
   ]
  },
  {
   "cell_type": "markdown",
   "metadata": {},
   "source": [
    "## Creating a dataframe of the above data"
   ]
  },
  {
   "cell_type": "code",
   "execution_count": 83,
   "metadata": {},
   "outputs": [],
   "source": [
    "iphone_rev = pd.DataFrame({})\n",
    "iphone_rev['Rating'] = Rating[:100]\n",
    "iphone_rev['Rev_Summary'] = R_Summary[:100]\n",
    "iphone_rev['Full_Review'] = Review[:100]"
   ]
  },
  {
   "cell_type": "code",
   "execution_count": 84,
   "metadata": {},
   "outputs": [
    {
     "data": {
      "text/html": [
       "<div>\n",
       "<style scoped>\n",
       "    .dataframe tbody tr th:only-of-type {\n",
       "        vertical-align: middle;\n",
       "    }\n",
       "\n",
       "    .dataframe tbody tr th {\n",
       "        vertical-align: top;\n",
       "    }\n",
       "\n",
       "    .dataframe thead th {\n",
       "        text-align: right;\n",
       "    }\n",
       "</style>\n",
       "<table border=\"1\" class=\"dataframe\">\n",
       "  <thead>\n",
       "    <tr style=\"text-align: right;\">\n",
       "      <th></th>\n",
       "      <th>Rating</th>\n",
       "      <th>Rev_Summary</th>\n",
       "      <th>Full_Review</th>\n",
       "    </tr>\n",
       "  </thead>\n",
       "  <tbody>\n",
       "    <tr>\n",
       "      <th>0</th>\n",
       "      <td>4</td>\n",
       "      <td>Good choice</td>\n",
       "      <td>Looking so good 👍 😍 super 👌 stylish 😎 phone\\nC...</td>\n",
       "    </tr>\n",
       "    <tr>\n",
       "      <th>1</th>\n",
       "      <td>5</td>\n",
       "      <td>Just wow!</td>\n",
       "      <td>Best in class. Battery backup is good especial...</td>\n",
       "    </tr>\n",
       "    <tr>\n",
       "      <th>2</th>\n",
       "      <td>5</td>\n",
       "      <td>Super!</td>\n",
       "      <td>It’s been 7 years I was waiting for an income ...</td>\n",
       "    </tr>\n",
       "    <tr>\n",
       "      <th>3</th>\n",
       "      <td>5</td>\n",
       "      <td>Classy product</td>\n",
       "      <td>We are on apple ecosystem for almost eight yea...</td>\n",
       "    </tr>\n",
       "    <tr>\n",
       "      <th>4</th>\n",
       "      <td>5</td>\n",
       "      <td>Perfect product!</td>\n",
       "      <td>Battery backup is extraordinary, camera is dec...</td>\n",
       "    </tr>\n",
       "    <tr>\n",
       "      <th>...</th>\n",
       "      <td>...</td>\n",
       "      <td>...</td>\n",
       "      <td>...</td>\n",
       "    </tr>\n",
       "    <tr>\n",
       "      <th>95</th>\n",
       "      <td>4</td>\n",
       "      <td>Nice product</td>\n",
       "      <td>Awesome Phone. Slightly high price but worth. ...</td>\n",
       "    </tr>\n",
       "    <tr>\n",
       "      <th>96</th>\n",
       "      <td>5</td>\n",
       "      <td>Brilliant</td>\n",
       "      <td>I have migrated from OP 7pro... and trust me, ...</td>\n",
       "    </tr>\n",
       "    <tr>\n",
       "      <th>97</th>\n",
       "      <td>5</td>\n",
       "      <td>Must buy!</td>\n",
       "      <td>It’s an amazing product from apple and the cam...</td>\n",
       "    </tr>\n",
       "    <tr>\n",
       "      <th>98</th>\n",
       "      <td>5</td>\n",
       "      <td>Great product</td>\n",
       "      <td>Again back to apple iphone after a gap of 2-3 ...</td>\n",
       "    </tr>\n",
       "    <tr>\n",
       "      <th>99</th>\n",
       "      <td>5</td>\n",
       "      <td>Classy product</td>\n",
       "      <td>Superb Product !!!\\nA big and worthy upgrade f...</td>\n",
       "    </tr>\n",
       "  </tbody>\n",
       "</table>\n",
       "<p>100 rows × 3 columns</p>\n",
       "</div>"
      ],
      "text/plain": [
       "   Rating       Rev_Summary                                        Full_Review\n",
       "0       4       Good choice  Looking so good 👍 😍 super 👌 stylish 😎 phone\\nC...\n",
       "1       5         Just wow!  Best in class. Battery backup is good especial...\n",
       "2       5            Super!  It’s been 7 years I was waiting for an income ...\n",
       "3       5    Classy product  We are on apple ecosystem for almost eight yea...\n",
       "4       5  Perfect product!  Battery backup is extraordinary, camera is dec...\n",
       "..    ...               ...                                                ...\n",
       "95      4      Nice product  Awesome Phone. Slightly high price but worth. ...\n",
       "96      5         Brilliant  I have migrated from OP 7pro... and trust me, ...\n",
       "97      5         Must buy!  It’s an amazing product from apple and the cam...\n",
       "98      5     Great product  Again back to apple iphone after a gap of 2-3 ...\n",
       "99      5    Classy product  Superb Product !!!\\nA big and worthy upgrade f...\n",
       "\n",
       "[100 rows x 3 columns]"
      ]
     },
     "execution_count": 84,
     "metadata": {},
     "output_type": "execute_result"
    }
   ],
   "source": [
    "iphone_rev"
   ]
  },
  {
   "cell_type": "markdown",
   "metadata": {},
   "source": [
    "We can see that we have created the dataframe."
   ]
  },
  {
   "cell_type": "code",
   "execution_count": 85,
   "metadata": {},
   "outputs": [],
   "source": [
    "driver.close()"
   ]
  },
  {
   "cell_type": "markdown",
   "metadata": {},
   "source": [
    "## Ques 6\n",
    "\n",
    "Q6: Scrape data for first 100 sneakers you find when you visit flipkart.com and search for “sneakers” in the\n",
    "search field.\n",
    "You have to scrape 4 attributes of each sneaker:\n",
    "\n",
    "1. Brand\n",
    "2. Product Description\n",
    "3. Price\n",
    "4. discount %"
   ]
  },
  {
   "cell_type": "code",
   "execution_count": 86,
   "metadata": {},
   "outputs": [],
   "source": [
    "# let's first connect to the web driver\n",
    "driver = webdriver.Chrome(r'C:\\Users\\VAIO\\Downloads\\chromedriver.exe')"
   ]
  },
  {
   "cell_type": "code",
   "execution_count": 87,
   "metadata": {},
   "outputs": [],
   "source": [
    "url=\"https://www.flipkart.com/\"\n",
    "driver.get(url)"
   ]
  },
  {
   "cell_type": "code",
   "execution_count": 88,
   "metadata": {},
   "outputs": [],
   "source": [
    "# closing the login popup window\n",
    "driver.find_element(By.XPATH, '/html/body/div[2]/div/div/button').click()"
   ]
  },
  {
   "cell_type": "code",
   "execution_count": 89,
   "metadata": {},
   "outputs": [
    {
     "data": {
      "text/plain": [
       "<selenium.webdriver.remote.webelement.WebElement (session=\"324bc42d197993403a1f71c36398eed1\", element=\"693bd770-7bf7-4585-a551-97691dc06d6a\")>"
      ]
     },
     "execution_count": 89,
     "metadata": {},
     "output_type": "execute_result"
    }
   ],
   "source": [
    "# finding element for job search bar\n",
    "search_g= driver.find_element(By.XPATH, \"//input[@type='text']\")\n",
    "search_g"
   ]
  },
  {
   "cell_type": "code",
   "execution_count": 90,
   "metadata": {},
   "outputs": [],
   "source": [
    "# write on search bar\n",
    "search_g.send_keys('sneakers')"
   ]
  },
  {
   "cell_type": "code",
   "execution_count": 94,
   "metadata": {},
   "outputs": [
    {
     "data": {
      "text/plain": [
       "<selenium.webdriver.remote.webelement.WebElement (session=\"324bc42d197993403a1f71c36398eed1\", element=\"d6a25a83-669b-4ed1-85af-c0325655c776\")>"
      ]
     },
     "execution_count": 94,
     "metadata": {},
     "output_type": "execute_result"
    }
   ],
   "source": [
    "search_btn=driver.find_element(By.XPATH, \"//button[@class='L0Z3Pu']\")\n",
    "search_btn"
   ]
  },
  {
   "cell_type": "code",
   "execution_count": 95,
   "metadata": {},
   "outputs": [],
   "source": [
    "search_btn=driver.find_element(By.CLASS_NAME,'L0Z3Pu')\n",
    "search_btn.click()"
   ]
  },
  {
   "cell_type": "code",
   "execution_count": 98,
   "metadata": {},
   "outputs": [],
   "source": [
    "B_name=[]\n",
    "Price=[]\n",
    "P_desc=[]\n",
    "Discount=[]"
   ]
  },
  {
   "cell_type": "code",
   "execution_count": 99,
   "metadata": {},
   "outputs": [],
   "source": [
    "for i in range(3):\n",
    "    b_name=driver.find_elements(By.XPATH, \"//div[@class='_2WkVRV']\")\n",
    "    p_desc=driver.find_elements(By.XPATH, \"//a[@class='IRpwTa']\")\n",
    "    price =driver.find_elements(By.XPATH, \"//div[@class='_30jeq3']\")\n",
    "    discount=driver.find_elements(By.XPATH, \"//div[@class='_3Ay6Sb']\")\n",
    "    \n",
    "    for j  in b_name:\n",
    "        B_name.append(j.text)\n",
    "    B_name[:100]    \n",
    "    \n",
    "    for k in p_desc:\n",
    "        P_desc.append(k.text)\n",
    "    P_desc[:100] \n",
    "    \n",
    "    for l in price:\n",
    "        Price.append(l.text)\n",
    "    Price[:100] \n",
    "    \n",
    "    for t in discount:\n",
    "        Discount.append(t.text)\n",
    "    Discount[:100]"
   ]
  },
  {
   "cell_type": "code",
   "execution_count": 100,
   "metadata": {},
   "outputs": [
    {
     "name": "stdout",
     "output_type": "stream",
     "text": [
      "100\n",
      "100\n",
      "100\n",
      "100\n"
     ]
    },
    {
     "data": {
      "text/plain": [
       "(None, None, None, None)"
      ]
     },
     "execution_count": 100,
     "metadata": {},
     "output_type": "execute_result"
    }
   ],
   "source": [
    "print(len(B_name[:100])),print(len(Price[:100])),print(len(P_desc[:100])),print(len(Discount[:100]))"
   ]
  },
  {
   "cell_type": "markdown",
   "metadata": {},
   "source": [
    "# Creating a dataframe of the above data"
   ]
  },
  {
   "cell_type": "code",
   "execution_count": 101,
   "metadata": {},
   "outputs": [],
   "source": [
    "sneakers=pd.DataFrame({})\n",
    "sneakers['Brand_name']=B_name[:100]\n",
    "sneakers['Product_description']=P_desc[:100]\n",
    "sneakers['Product_price']=Price[:100]\n",
    "sneakers['Product_discount']=Discount[:100]"
   ]
  },
  {
   "cell_type": "code",
   "execution_count": 102,
   "metadata": {},
   "outputs": [
    {
     "data": {
      "text/html": [
       "<div>\n",
       "<style scoped>\n",
       "    .dataframe tbody tr th:only-of-type {\n",
       "        vertical-align: middle;\n",
       "    }\n",
       "\n",
       "    .dataframe tbody tr th {\n",
       "        vertical-align: top;\n",
       "    }\n",
       "\n",
       "    .dataframe thead th {\n",
       "        text-align: right;\n",
       "    }\n",
       "</style>\n",
       "<table border=\"1\" class=\"dataframe\">\n",
       "  <thead>\n",
       "    <tr style=\"text-align: right;\">\n",
       "      <th></th>\n",
       "      <th>Brand_name</th>\n",
       "      <th>Product_description</th>\n",
       "      <th>Product_price</th>\n",
       "      <th>Product_discount</th>\n",
       "    </tr>\n",
       "  </thead>\n",
       "  <tbody>\n",
       "    <tr>\n",
       "      <th>0</th>\n",
       "      <td>VENDOZ</td>\n",
       "      <td>Stylish Sneakers For Women</td>\n",
       "      <td>₹499</td>\n",
       "      <td>50% off</td>\n",
       "    </tr>\n",
       "    <tr>\n",
       "      <th>1</th>\n",
       "      <td>VENDOZ</td>\n",
       "      <td>Stylish Sneakers For Women</td>\n",
       "      <td>₹498</td>\n",
       "      <td>50% off</td>\n",
       "    </tr>\n",
       "    <tr>\n",
       "      <th>2</th>\n",
       "      <td>RED TAPE</td>\n",
       "      <td>Sneakers For Men</td>\n",
       "      <td>₹1,149</td>\n",
       "      <td>77% off</td>\n",
       "    </tr>\n",
       "    <tr>\n",
       "      <th>3</th>\n",
       "      <td>Labbin</td>\n",
       "      <td>Sneakers For Men</td>\n",
       "      <td>₹395</td>\n",
       "      <td>60% off</td>\n",
       "    </tr>\n",
       "    <tr>\n",
       "      <th>4</th>\n",
       "      <td>Robbie jones</td>\n",
       "      <td>Sneakers For Men</td>\n",
       "      <td>₹349</td>\n",
       "      <td>65% off</td>\n",
       "    </tr>\n",
       "    <tr>\n",
       "      <th>...</th>\n",
       "      <td>...</td>\n",
       "      <td>...</td>\n",
       "      <td>...</td>\n",
       "      <td>...</td>\n",
       "    </tr>\n",
       "    <tr>\n",
       "      <th>95</th>\n",
       "      <td>PUMA</td>\n",
       "      <td>Exclusive Sneaker Shoes Sneakers For Men</td>\n",
       "      <td>₹2,020</td>\n",
       "      <td>42% off</td>\n",
       "    </tr>\n",
       "    <tr>\n",
       "      <th>96</th>\n",
       "      <td>VENDOZ</td>\n",
       "      <td>Sneakers For Women</td>\n",
       "      <td>₹499</td>\n",
       "      <td>50% off</td>\n",
       "    </tr>\n",
       "    <tr>\n",
       "      <th>97</th>\n",
       "      <td>WARMFEET</td>\n",
       "      <td>Sneakers For Men</td>\n",
       "      <td>₹616</td>\n",
       "      <td>52% off</td>\n",
       "    </tr>\n",
       "    <tr>\n",
       "      <th>98</th>\n",
       "      <td>BRUTON</td>\n",
       "      <td>Trendy-21 White Color Change Sneakers,Casuals,...</td>\n",
       "      <td>₹324</td>\n",
       "      <td>75% off</td>\n",
       "    </tr>\n",
       "    <tr>\n",
       "      <th>99</th>\n",
       "      <td>Deals4you</td>\n",
       "      <td>Sneakers For Men</td>\n",
       "      <td>₹363</td>\n",
       "      <td>63% off</td>\n",
       "    </tr>\n",
       "  </tbody>\n",
       "</table>\n",
       "<p>100 rows × 4 columns</p>\n",
       "</div>"
      ],
      "text/plain": [
       "      Brand_name                                Product_description  \\\n",
       "0         VENDOZ                         Stylish Sneakers For Women   \n",
       "1         VENDOZ                         Stylish Sneakers For Women   \n",
       "2       RED TAPE                                   Sneakers For Men   \n",
       "3         Labbin                                   Sneakers For Men   \n",
       "4   Robbie jones                                   Sneakers For Men   \n",
       "..           ...                                                ...   \n",
       "95          PUMA           Exclusive Sneaker Shoes Sneakers For Men   \n",
       "96        VENDOZ                                 Sneakers For Women   \n",
       "97      WARMFEET                                   Sneakers For Men   \n",
       "98        BRUTON  Trendy-21 White Color Change Sneakers,Casuals,...   \n",
       "99     Deals4you                                   Sneakers For Men   \n",
       "\n",
       "   Product_price Product_discount  \n",
       "0           ₹499          50% off  \n",
       "1           ₹498          50% off  \n",
       "2         ₹1,149          77% off  \n",
       "3           ₹395          60% off  \n",
       "4           ₹349          65% off  \n",
       "..           ...              ...  \n",
       "95        ₹2,020          42% off  \n",
       "96          ₹499          50% off  \n",
       "97          ₹616          52% off  \n",
       "98          ₹324          75% off  \n",
       "99          ₹363          63% off  \n",
       "\n",
       "[100 rows x 4 columns]"
      ]
     },
     "execution_count": 102,
     "metadata": {},
     "output_type": "execute_result"
    }
   ],
   "source": [
    "sneakers"
   ]
  },
  {
   "cell_type": "markdown",
   "metadata": {},
   "source": [
    "We have created the dataframe"
   ]
  },
  {
   "cell_type": "code",
   "execution_count": 103,
   "metadata": {},
   "outputs": [],
   "source": [
    "driver.close()"
   ]
  },
  {
   "cell_type": "markdown",
   "metadata": {},
   "source": [
    "## Ques 8\n",
    "\n",
    "Q8: Go to webpage https://www.amazon.in/\n",
    "Enter “Laptop” in the search field and then click the search icon. Then set CPU Type filter to “Intel Core i7”\n",
    "\n",
    "After setting the filters scrape first 10 laptops data. You have to scrape 3 attributesfor each laptop:\n",
    "\n",
    "1. Title\n",
    "2. Ratings\n",
    "3. Price"
   ]
  },
  {
   "cell_type": "code",
   "execution_count": 136,
   "metadata": {},
   "outputs": [],
   "source": [
    "# let's first connect to the web driver\n",
    "driver = webdriver.Chrome(r'C:\\Users\\VAIO\\Downloads\\chromedriver.exe')"
   ]
  },
  {
   "cell_type": "code",
   "execution_count": 137,
   "metadata": {},
   "outputs": [],
   "source": [
    "url=\" https://www.amazon.in \"\n",
    "driver.get(url)"
   ]
  },
  {
   "cell_type": "code",
   "execution_count": 138,
   "metadata": {},
   "outputs": [
    {
     "data": {
      "text/plain": [
       "<selenium.webdriver.remote.webelement.WebElement (session=\"44adc19612969eacb1d6b500c8276d95\", element=\"823d6825-36b0-4548-a6f3-4da74a21cc53\")>"
      ]
     },
     "execution_count": 138,
     "metadata": {},
     "output_type": "execute_result"
    }
   ],
   "source": [
    "# finding element for search bar\n",
    "search_g= driver.find_element(By.XPATH, \"//input[@type='text']\")\n",
    "search_g"
   ]
  },
  {
   "cell_type": "code",
   "execution_count": 139,
   "metadata": {},
   "outputs": [],
   "source": [
    "# write on search bar\n",
    "search_g.send_keys('Laptop')"
   ]
  },
  {
   "cell_type": "code",
   "execution_count": 141,
   "metadata": {},
   "outputs": [],
   "source": [
    "# Click on search button\n",
    "search_btn=driver.find_element(By.XPATH, \"//input[@id='nav-search-submit-button']\")\n",
    "search_btn.click()"
   ]
  },
  {
   "cell_type": "code",
   "execution_count": 142,
   "metadata": {},
   "outputs": [],
   "source": [
    "# Click on the checkbox for filtering\n",
    "driver.find_element(By.XPATH, '/html/body/div[1]/div[2]/div[1]/div[2]/div/div[3]/span/div[1]/div/div/div[6]/ul[5]/li[14]/span/a/div/label/i').click()"
   ]
  },
  {
   "cell_type": "code",
   "execution_count": 172,
   "metadata": {},
   "outputs": [],
   "source": [
    "Title=[]\n",
    "Price=[]\n",
    "Rating=[]\n",
    "\n",
    "for i in range(5):\n",
    "    name=driver.find_elements(By.XPATH, \"//h2[@class='a-size-mini a-spacing-none a-color-base s-line-clamp-2']/a/span\")\n",
    "    rating=driver.find_elements(By.XPATH, \"//span[@class='a-declarative']/a/i/span\")\n",
    "    price =driver.find_elements(By.XPATH, \"//span[@class='a-price']\")\n",
    "    \n",
    "    for j  in name:\n",
    "        Title.append(j.text)\n",
    "    Title[:100]    \n",
    "    \n",
    "    for k in rating:\n",
    "        if k.text is None:\n",
    "            Rating.append('No Ratings Available')\n",
    "        else:\n",
    "            Rating.append(k.text)\n",
    "    Rating[:100] \n",
    "    \n",
    "    for l in price:\n",
    "        Price.append(l.text)\n",
    "    Price[:100]"
   ]
  },
  {
   "cell_type": "code",
   "execution_count": 173,
   "metadata": {},
   "outputs": [
    {
     "name": "stdout",
     "output_type": "stream",
     "text": [
      "100\n",
      "100\n",
      "100\n"
     ]
    },
    {
     "data": {
      "text/plain": [
       "(None, None, None)"
      ]
     },
     "execution_count": 173,
     "metadata": {},
     "output_type": "execute_result"
    }
   ],
   "source": [
    "print(len(Title[:100])),print(len(Price[:100])),print(len(Rating[:100]))"
   ]
  },
  {
   "cell_type": "markdown",
   "metadata": {},
   "source": [
    "## Create a dataframe"
   ]
  },
  {
   "cell_type": "code",
   "execution_count": 161,
   "metadata": {},
   "outputs": [
    {
     "data": {
      "text/html": [
       "<div>\n",
       "<style scoped>\n",
       "    .dataframe tbody tr th:only-of-type {\n",
       "        vertical-align: middle;\n",
       "    }\n",
       "\n",
       "    .dataframe tbody tr th {\n",
       "        vertical-align: top;\n",
       "    }\n",
       "\n",
       "    .dataframe thead th {\n",
       "        text-align: right;\n",
       "    }\n",
       "</style>\n",
       "<table border=\"1\" class=\"dataframe\">\n",
       "  <thead>\n",
       "    <tr style=\"text-align: right;\">\n",
       "      <th></th>\n",
       "      <th>Item_name</th>\n",
       "      <th>Product_rating</th>\n",
       "      <th>Product_price</th>\n",
       "    </tr>\n",
       "  </thead>\n",
       "  <tbody>\n",
       "    <tr>\n",
       "      <th>0</th>\n",
       "      <td>HP Pavilion x360 11th Gen Intel Core i7 14 inc...</td>\n",
       "      <td></td>\n",
       "      <td>₹80,490</td>\n",
       "    </tr>\n",
       "    <tr>\n",
       "      <th>1</th>\n",
       "      <td>HP Pavilion Plus, 12th Gen Intel Core i7 16GB ...</td>\n",
       "      <td></td>\n",
       "      <td>₹93,999</td>\n",
       "    </tr>\n",
       "    <tr>\n",
       "      <th>2</th>\n",
       "      <td>Samsung Galaxy Book2 Intel 12th Gen core i7 39...</td>\n",
       "      <td></td>\n",
       "      <td>₹79,207</td>\n",
       "    </tr>\n",
       "    <tr>\n",
       "      <th>3</th>\n",
       "      <td>Lenovo ThinkBook 15 Intel 11th Gen Core i7 15....</td>\n",
       "      <td></td>\n",
       "      <td>₹77,990</td>\n",
       "    </tr>\n",
       "    <tr>\n",
       "      <th>4</th>\n",
       "      <td>(Renewed) HP ProBook 430 G3 6th Gen Intel Core...</td>\n",
       "      <td></td>\n",
       "      <td>₹25,895</td>\n",
       "    </tr>\n",
       "    <tr>\n",
       "      <th>...</th>\n",
       "      <td>...</td>\n",
       "      <td>...</td>\n",
       "      <td>...</td>\n",
       "    </tr>\n",
       "    <tr>\n",
       "      <th>95</th>\n",
       "      <td></td>\n",
       "      <td></td>\n",
       "      <td></td>\n",
       "    </tr>\n",
       "    <tr>\n",
       "      <th>96</th>\n",
       "      <td>HP Pavilion x360 11th Gen Intel Core i7 14 inc...</td>\n",
       "      <td></td>\n",
       "      <td>₹80,490</td>\n",
       "    </tr>\n",
       "    <tr>\n",
       "      <th>97</th>\n",
       "      <td>HP Pavilion Plus, 12th Gen Intel Core i7 16GB ...</td>\n",
       "      <td></td>\n",
       "      <td>₹93,999</td>\n",
       "    </tr>\n",
       "    <tr>\n",
       "      <th>98</th>\n",
       "      <td>Samsung Galaxy Book2 Intel 12th Gen core i7 39...</td>\n",
       "      <td></td>\n",
       "      <td>₹79,207</td>\n",
       "    </tr>\n",
       "    <tr>\n",
       "      <th>99</th>\n",
       "      <td>Lenovo ThinkBook 15 Intel 11th Gen Core i7 15....</td>\n",
       "      <td></td>\n",
       "      <td>₹77,990</td>\n",
       "    </tr>\n",
       "  </tbody>\n",
       "</table>\n",
       "<p>100 rows × 3 columns</p>\n",
       "</div>"
      ],
      "text/plain": [
       "                                            Item_name Product_rating  \\\n",
       "0   HP Pavilion x360 11th Gen Intel Core i7 14 inc...                  \n",
       "1   HP Pavilion Plus, 12th Gen Intel Core i7 16GB ...                  \n",
       "2   Samsung Galaxy Book2 Intel 12th Gen core i7 39...                  \n",
       "3   Lenovo ThinkBook 15 Intel 11th Gen Core i7 15....                  \n",
       "4   (Renewed) HP ProBook 430 G3 6th Gen Intel Core...                  \n",
       "..                                                ...            ...   \n",
       "95                                                                     \n",
       "96  HP Pavilion x360 11th Gen Intel Core i7 14 inc...                  \n",
       "97  HP Pavilion Plus, 12th Gen Intel Core i7 16GB ...                  \n",
       "98  Samsung Galaxy Book2 Intel 12th Gen core i7 39...                  \n",
       "99  Lenovo ThinkBook 15 Intel 11th Gen Core i7 15....                  \n",
       "\n",
       "   Product_price  \n",
       "0        ₹80,490  \n",
       "1        ₹93,999  \n",
       "2        ₹79,207  \n",
       "3        ₹77,990  \n",
       "4        ₹25,895  \n",
       "..           ...  \n",
       "95                \n",
       "96       ₹80,490  \n",
       "97       ₹93,999  \n",
       "98       ₹79,207  \n",
       "99       ₹77,990  \n",
       "\n",
       "[100 rows x 3 columns]"
      ]
     },
     "execution_count": 161,
     "metadata": {},
     "output_type": "execute_result"
    }
   ],
   "source": [
    "laptop=pd.DataFrame({})\n",
    "laptop['Item_name']=Title[:100]\n",
    "laptop['Product_rating']=Rating[:100]\n",
    "laptop['Product_price']=Price[:100]\n",
    "\n",
    "laptop"
   ]
  },
  {
   "cell_type": "markdown",
   "metadata": {},
   "source": [
    "Rating column is coming blank ** Need clarification"
   ]
  },
  {
   "cell_type": "code",
   "execution_count": null,
   "metadata": {},
   "outputs": [],
   "source": [
    "driver.close()"
   ]
  },
  {
   "cell_type": "markdown",
   "metadata": {},
   "source": [
    "## Ques 9\n",
    "\n",
    "Q9: Write a python program to scrape data for Top 1000 Quotes of All Time. The above task will be done in following steps:\n",
    "\n",
    "1. First get the webpage https://www.azquotes.com/\n",
    "2. Click on Top Quotes\n",
    "3. Then scrap :\n",
    "    * Quote \n",
    "    * Author \n",
    "    * Type Of Quote"
   ]
  },
  {
   "cell_type": "code",
   "execution_count": 177,
   "metadata": {},
   "outputs": [],
   "source": [
    "# let's first connect to the web driver\n",
    "driver = webdriver.Chrome(r'C:\\Users\\VAIO\\Downloads\\chromedriver.exe')"
   ]
  },
  {
   "cell_type": "code",
   "execution_count": 178,
   "metadata": {},
   "outputs": [],
   "source": [
    "url=\"https://www.azquotes.com/\"\n",
    "driver.get(url)"
   ]
  },
  {
   "cell_type": "code",
   "execution_count": 179,
   "metadata": {},
   "outputs": [],
   "source": [
    "# Selecting top quotes\n",
    "top_quote = driver.find_element(By.XPATH, '//a[@href=\"/top_quotes.html\"]')\n",
    "top_quote.click()"
   ]
  },
  {
   "cell_type": "code",
   "execution_count": 184,
   "metadata": {},
   "outputs": [],
   "source": [
    "Quotes = []\n",
    "Author = []\n",
    "Quote_Type = []\n",
    "\n",
    "for i in range(10):\n",
    "    quote_tag = driver.find_elements(By.XPATH, '//a[@class=\"title\"]')\n",
    "    author_tag = driver.find_elements(By.XPATH, '//div[@class=\"author\"]/a')\n",
    "    type_tag = driver.find_elements(By.XPATH, '//div[@class=\"tags\"]')\n",
    "    \n",
    "    for j in quote_tag:\n",
    "        Quotes.append(j.text)\n",
    "    \n",
    "    for k in author_tag:\n",
    "        Author.append(k.text)\n",
    "    \n",
    "    for l in type_tag:\n",
    "        Quote_Type.append(l.text)"
   ]
  },
  {
   "cell_type": "code",
   "execution_count": 185,
   "metadata": {},
   "outputs": [
    {
     "name": "stdout",
     "output_type": "stream",
     "text": [
      "1000\n",
      "1000\n",
      "1000\n"
     ]
    },
    {
     "data": {
      "text/plain": [
       "(None, None, None)"
      ]
     },
     "execution_count": 185,
     "metadata": {},
     "output_type": "execute_result"
    }
   ],
   "source": [
    "print(len(Quotes)),print(len(Author)),print(len(Quote_Type))"
   ]
  },
  {
   "cell_type": "markdown",
   "metadata": {},
   "source": [
    "## Create a DataFrame"
   ]
  },
  {
   "cell_type": "code",
   "execution_count": 187,
   "metadata": {},
   "outputs": [
    {
     "data": {
      "text/html": [
       "<div>\n",
       "<style scoped>\n",
       "    .dataframe tbody tr th:only-of-type {\n",
       "        vertical-align: middle;\n",
       "    }\n",
       "\n",
       "    .dataframe tbody tr th {\n",
       "        vertical-align: top;\n",
       "    }\n",
       "\n",
       "    .dataframe thead th {\n",
       "        text-align: right;\n",
       "    }\n",
       "</style>\n",
       "<table border=\"1\" class=\"dataframe\">\n",
       "  <thead>\n",
       "    <tr style=\"text-align: right;\">\n",
       "      <th></th>\n",
       "      <th>Quotes</th>\n",
       "      <th>Author</th>\n",
       "      <th>Quote_Type</th>\n",
       "    </tr>\n",
       "  </thead>\n",
       "  <tbody>\n",
       "    <tr>\n",
       "      <th>0</th>\n",
       "      <td>The essence of strategy is choosing what not t...</td>\n",
       "      <td>Michael Porter</td>\n",
       "      <td>Essence, Deep Thought, Transcendentalism</td>\n",
       "    </tr>\n",
       "    <tr>\n",
       "      <th>1</th>\n",
       "      <td>One cannot and must not try to erase the past ...</td>\n",
       "      <td>Golda Meir</td>\n",
       "      <td>Inspiration, Past, Trying</td>\n",
       "    </tr>\n",
       "    <tr>\n",
       "      <th>2</th>\n",
       "      <td>Patriotism means to stand by the country. It d...</td>\n",
       "      <td>Theodore Roosevelt</td>\n",
       "      <td>Country, Peace, War</td>\n",
       "    </tr>\n",
       "    <tr>\n",
       "      <th>3</th>\n",
       "      <td>Death is something inevitable. When a man has ...</td>\n",
       "      <td>Nelson Mandela</td>\n",
       "      <td>Inspirational, Motivational, Death</td>\n",
       "    </tr>\n",
       "    <tr>\n",
       "      <th>4</th>\n",
       "      <td>You have to love a nation that celebrates its ...</td>\n",
       "      <td>Erma Bombeck</td>\n",
       "      <td>4th Of July, Food, Patriotic</td>\n",
       "    </tr>\n",
       "    <tr>\n",
       "      <th>...</th>\n",
       "      <td>...</td>\n",
       "      <td>...</td>\n",
       "      <td>...</td>\n",
       "    </tr>\n",
       "    <tr>\n",
       "      <th>995</th>\n",
       "      <td>When the going gets weird, the weird turn pro.</td>\n",
       "      <td>Hunter S. Thompson</td>\n",
       "      <td>Music, Sports, Hunting</td>\n",
       "    </tr>\n",
       "    <tr>\n",
       "      <th>996</th>\n",
       "      <td>When a train goes through a tunnel and it gets...</td>\n",
       "      <td>Corrie Ten Boom</td>\n",
       "      <td>Trust, Encouraging, Uplifting</td>\n",
       "    </tr>\n",
       "    <tr>\n",
       "      <th>997</th>\n",
       "      <td>God doesn't require us to succeed, he only req...</td>\n",
       "      <td>Mother Teresa</td>\n",
       "      <td>Success, God, Mother</td>\n",
       "    </tr>\n",
       "    <tr>\n",
       "      <th>998</th>\n",
       "      <td>If you think you are too small to make a diffe...</td>\n",
       "      <td>Dalai Lama</td>\n",
       "      <td>Inspirational, Funny, Change</td>\n",
       "    </tr>\n",
       "    <tr>\n",
       "      <th>999</th>\n",
       "      <td>Change your thoughts and you change your world.</td>\n",
       "      <td>Norman Vincent Peale</td>\n",
       "      <td>Inspirational, Motivational, Change</td>\n",
       "    </tr>\n",
       "  </tbody>\n",
       "</table>\n",
       "<p>1000 rows × 3 columns</p>\n",
       "</div>"
      ],
      "text/plain": [
       "                                                Quotes                Author  \\\n",
       "0    The essence of strategy is choosing what not t...        Michael Porter   \n",
       "1    One cannot and must not try to erase the past ...            Golda Meir   \n",
       "2    Patriotism means to stand by the country. It d...    Theodore Roosevelt   \n",
       "3    Death is something inevitable. When a man has ...        Nelson Mandela   \n",
       "4    You have to love a nation that celebrates its ...          Erma Bombeck   \n",
       "..                                                 ...                   ...   \n",
       "995     When the going gets weird, the weird turn pro.    Hunter S. Thompson   \n",
       "996  When a train goes through a tunnel and it gets...       Corrie Ten Boom   \n",
       "997  God doesn't require us to succeed, he only req...         Mother Teresa   \n",
       "998  If you think you are too small to make a diffe...            Dalai Lama   \n",
       "999    Change your thoughts and you change your world.  Norman Vincent Peale   \n",
       "\n",
       "                                   Quote_Type  \n",
       "0    Essence, Deep Thought, Transcendentalism  \n",
       "1                   Inspiration, Past, Trying  \n",
       "2                         Country, Peace, War  \n",
       "3          Inspirational, Motivational, Death  \n",
       "4                4th Of July, Food, Patriotic  \n",
       "..                                        ...  \n",
       "995                    Music, Sports, Hunting  \n",
       "996             Trust, Encouraging, Uplifting  \n",
       "997                      Success, God, Mother  \n",
       "998              Inspirational, Funny, Change  \n",
       "999       Inspirational, Motivational, Change  \n",
       "\n",
       "[1000 rows x 3 columns]"
      ]
     },
     "execution_count": 187,
     "metadata": {},
     "output_type": "execute_result"
    }
   ],
   "source": [
    "Quotations = pd.DataFrame({})\n",
    "Quotations['Quotes'] = Quotes\n",
    "Quotations['Author'] = Author\n",
    "Quotations['Quote_Type'] = Quote_Type\n",
    "\n",
    "Quotations"
   ]
  },
  {
   "cell_type": "code",
   "execution_count": 188,
   "metadata": {},
   "outputs": [],
   "source": [
    "driver.close()"
   ]
  },
  {
   "cell_type": "markdown",
   "metadata": {},
   "source": [
    "## Ques 10\n",
    "\n",
    "Q10: Write s python program to display list of respected former Prime Ministers of India(i.e. Name, Born-Dead, Term of office, Remarks) from https://www.jagranjosh.com/.\n",
    "\n",
    "This task will be done in following steps:\n",
    "\n",
    "1. First get the webpage https://www.jagranjosh.com/\n",
    "2. Then You have to click on the GK option\n",
    "3. Then click on the List of all Prime Ministers of India\n",
    "4. Then scrap the mentioned data and make the DataFrame."
   ]
  },
  {
   "cell_type": "code",
   "execution_count": 189,
   "metadata": {},
   "outputs": [],
   "source": [
    "# let's first connect to the web driver\n",
    "driver = webdriver.Chrome(r'C:\\Users\\VAIO\\Downloads\\chromedriver.exe')"
   ]
  },
  {
   "cell_type": "code",
   "execution_count": 190,
   "metadata": {},
   "outputs": [],
   "source": [
    "url = \"https://www.jagranjosh.com/\"\n",
    "driver.get(url)"
   ]
  },
  {
   "cell_type": "code",
   "execution_count": 193,
   "metadata": {},
   "outputs": [],
   "source": [
    "# Selecting GK\n",
    "gk = driver.find_element(By.XPATH, '/html/body/div/div[1]/div/div[1]/div/div[6]/div/div[1]/header/div[3]/ul/li[9]/a')\n",
    "gk.click()"
   ]
  },
  {
   "cell_type": "code",
   "execution_count": 194,
   "metadata": {},
   "outputs": [],
   "source": [
    "# Selecting the 'List of all Prime Minister of India' section\n",
    "prime_min = driver.find_element(By.XPATH, '/html/body/div[1]/div/div/div[2]/div/div[10]/div/div/ul/li[2]/a')\n",
    "prime_min.click()"
   ]
  },
  {
   "cell_type": "code",
   "execution_count": 218,
   "metadata": {},
   "outputs": [],
   "source": [
    "data = []\n",
    "S_no = []\n",
    "Name = []\n",
    "Born_Dead = [] \n",
    "Term = []\n",
    "Remark = []\n",
    "\n",
    "data_tag = driver.find_elements(By.XPATH, '//td[@valign=\"top\"]')\n",
    "\n",
    "for i in data_tag:\n",
    "    data.append(i.text)\n",
    "\n",
    "S_no = [data[i] for i in range(0, len(data),5)]\n",
    "Name = [data[i] for i in range(1, len(data),5)]\n",
    "Born_Dead = [data[i] for i in range(2, len(data),5)]\n",
    "Term = [data[i] for i in range(3, len(data),5)]\n",
    "Remark = [data[i] for i in range(4, len(data),5)]"
   ]
  },
  {
   "cell_type": "code",
   "execution_count": 219,
   "metadata": {},
   "outputs": [
    {
     "name": "stdout",
     "output_type": "stream",
     "text": [
      "17\n",
      "17\n",
      "17\n",
      "17\n",
      "17\n"
     ]
    },
    {
     "data": {
      "text/plain": [
       "(None, None, None, None, None)"
      ]
     },
     "execution_count": 219,
     "metadata": {},
     "output_type": "execute_result"
    }
   ],
   "source": [
    "print(len(S_no)),print(len(Name)),print(len(Born_Dead)),print(len(Term)),print(len(Remark))"
   ]
  },
  {
   "cell_type": "markdown",
   "metadata": {},
   "source": [
    "## Create DataFrame"
   ]
  },
  {
   "cell_type": "code",
   "execution_count": 221,
   "metadata": {},
   "outputs": [
    {
     "data": {
      "text/html": [
       "<div>\n",
       "<style scoped>\n",
       "    .dataframe tbody tr th:only-of-type {\n",
       "        vertical-align: middle;\n",
       "    }\n",
       "\n",
       "    .dataframe tbody tr th {\n",
       "        vertical-align: top;\n",
       "    }\n",
       "\n",
       "    .dataframe thead th {\n",
       "        text-align: right;\n",
       "    }\n",
       "</style>\n",
       "<table border=\"1\" class=\"dataframe\">\n",
       "  <thead>\n",
       "    <tr style=\"text-align: right;\">\n",
       "      <th></th>\n",
       "      <th>Serial_Number</th>\n",
       "      <th>Name</th>\n",
       "      <th>Born_Dead</th>\n",
       "      <th>Term_Tenure</th>\n",
       "      <th>Remarks</th>\n",
       "    </tr>\n",
       "  </thead>\n",
       "  <tbody>\n",
       "    <tr>\n",
       "      <th>0</th>\n",
       "      <td>1.</td>\n",
       "      <td>Jawahar Lal Nehru</td>\n",
       "      <td>(1889–1964)</td>\n",
       "      <td>15 August 1947 to 27 May 1964\\n16 years, 286 days</td>\n",
       "      <td>The first prime minister of India and the long...</td>\n",
       "    </tr>\n",
       "    <tr>\n",
       "      <th>1</th>\n",
       "      <td>2.</td>\n",
       "      <td>Gulzarilal Nanda (Acting)</td>\n",
       "      <td>(1898-1998)</td>\n",
       "      <td>27 May 1964 to 9 June 1964,\\n13 days</td>\n",
       "      <td>First acting PM of India</td>\n",
       "    </tr>\n",
       "    <tr>\n",
       "      <th>2</th>\n",
       "      <td>3.</td>\n",
       "      <td>Lal Bahadur Shastri</td>\n",
       "      <td>(1904–1966)</td>\n",
       "      <td>9 June 1964 to 11 January 1966\\n1 year, 216 days</td>\n",
       "      <td>He has given the slogan of 'Jai Jawan Jai Kisa...</td>\n",
       "    </tr>\n",
       "    <tr>\n",
       "      <th>3</th>\n",
       "      <td>5.</td>\n",
       "      <td>Indira Gandhi</td>\n",
       "      <td>(1917–1984)</td>\n",
       "      <td>24 January 1966 to 24 March 1977\\n11 years, 59...</td>\n",
       "      <td>First female Prime Minister of India</td>\n",
       "    </tr>\n",
       "    <tr>\n",
       "      <th>4</th>\n",
       "      <td>6.</td>\n",
       "      <td>Morarji Desai</td>\n",
       "      <td>(1896–1995)</td>\n",
       "      <td>24 March 1977 to  28 July 1979 \\n2 year, 126 days</td>\n",
       "      <td>Oldest to become PM (81 years old) and first t...</td>\n",
       "    </tr>\n",
       "    <tr>\n",
       "      <th>5</th>\n",
       "      <td>7.</td>\n",
       "      <td>Charan Singh</td>\n",
       "      <td>(1902–1987)</td>\n",
       "      <td>28 July 1979 to 14 January 1980\\n170 days</td>\n",
       "      <td>Only PM who did not face the Parliament</td>\n",
       "    </tr>\n",
       "    <tr>\n",
       "      <th>6</th>\n",
       "      <td>8.</td>\n",
       "      <td>Indira Gandhi</td>\n",
       "      <td>(1917–1984)</td>\n",
       "      <td>14 January 1980 to 31 October 1984\\n4 years, 2...</td>\n",
       "      <td>The first lady who served as PM for the second...</td>\n",
       "    </tr>\n",
       "    <tr>\n",
       "      <th>7</th>\n",
       "      <td>9.</td>\n",
       "      <td>Rajiv Gandhi</td>\n",
       "      <td>(1944–1991)</td>\n",
       "      <td>31 October 1984 to 2 December 1989\\n5 years, 3...</td>\n",
       "      <td>Youngest to become PM (40 years old)</td>\n",
       "    </tr>\n",
       "    <tr>\n",
       "      <th>8</th>\n",
       "      <td>10.</td>\n",
       "      <td>V. P. Singh</td>\n",
       "      <td>(1931–2008)</td>\n",
       "      <td>2 December 1989 to 10 November 1990\\n343 days</td>\n",
       "      <td>First PM to step down after a vote of no confi...</td>\n",
       "    </tr>\n",
       "    <tr>\n",
       "      <th>9</th>\n",
       "      <td>11.</td>\n",
       "      <td>Chandra Shekhar</td>\n",
       "      <td>(1927–2007)</td>\n",
       "      <td>10 November 1990 to 21 June 1991\\n223 days</td>\n",
       "      <td>He belongs to  Samajwadi Janata Party</td>\n",
       "    </tr>\n",
       "    <tr>\n",
       "      <th>10</th>\n",
       "      <td>12.</td>\n",
       "      <td>P. V. Narasimha Rao</td>\n",
       "      <td>(1921–2004)</td>\n",
       "      <td>21 June 1991 to 16 May 1996\\n4 years, 330 days</td>\n",
       "      <td>First PM from south India</td>\n",
       "    </tr>\n",
       "    <tr>\n",
       "      <th>11</th>\n",
       "      <td>13.</td>\n",
       "      <td>Atal Bihari Vajpayee</td>\n",
       "      <td>(1924- 2018)</td>\n",
       "      <td>16 May 1996 to 1 June 1996\\n16 days</td>\n",
       "      <td>PM for shortest tenure</td>\n",
       "    </tr>\n",
       "    <tr>\n",
       "      <th>12</th>\n",
       "      <td>14.</td>\n",
       "      <td>H. D. Deve Gowda</td>\n",
       "      <td>(born 1933)</td>\n",
       "      <td>1 June 1996 to 21 April 1997\\n324 days</td>\n",
       "      <td>He belongs to  Janata Dal</td>\n",
       "    </tr>\n",
       "    <tr>\n",
       "      <th>13</th>\n",
       "      <td>15.</td>\n",
       "      <td>Inder Kumar Gujral</td>\n",
       "      <td>(1919–2012)</td>\n",
       "      <td>21 April 1997 to 19 March 1998 \\n332 days</td>\n",
       "      <td>------</td>\n",
       "    </tr>\n",
       "    <tr>\n",
       "      <th>14</th>\n",
       "      <td>16.</td>\n",
       "      <td>Atal Bihari Vajpayee</td>\n",
       "      <td>(1924-2018)</td>\n",
       "      <td>19 March 1998 to 22 May 2004 \\n6 years, 64 days</td>\n",
       "      <td>The first non-congress PM who completed a ful...</td>\n",
       "    </tr>\n",
       "    <tr>\n",
       "      <th>15</th>\n",
       "      <td>17.</td>\n",
       "      <td>Manmohan Singh</td>\n",
       "      <td>(born 1932)</td>\n",
       "      <td>22 May 2004 to 26 May 2014   \\n10 years, 4 days</td>\n",
       "      <td>First Sikh PM</td>\n",
       "    </tr>\n",
       "    <tr>\n",
       "      <th>16</th>\n",
       "      <td>18.</td>\n",
       "      <td>Narendra Modi</td>\n",
       "      <td>(born 1950)</td>\n",
       "      <td>26 May 2014 - Present</td>\n",
       "      <td>4th Prime Minister of India who served two con...</td>\n",
       "    </tr>\n",
       "  </tbody>\n",
       "</table>\n",
       "</div>"
      ],
      "text/plain": [
       "   Serial_Number                       Name     Born_Dead  \\\n",
       "0             1.          Jawahar Lal Nehru   (1889–1964)   \n",
       "1             2.  Gulzarilal Nanda (Acting)   (1898-1998)   \n",
       "2             3.        Lal Bahadur Shastri   (1904–1966)   \n",
       "3             5.              Indira Gandhi   (1917–1984)   \n",
       "4             6.              Morarji Desai   (1896–1995)   \n",
       "5             7.               Charan Singh   (1902–1987)   \n",
       "6             8.              Indira Gandhi   (1917–1984)   \n",
       "7             9.               Rajiv Gandhi   (1944–1991)   \n",
       "8            10.                V. P. Singh   (1931–2008)   \n",
       "9            11.            Chandra Shekhar   (1927–2007)   \n",
       "10           12.        P. V. Narasimha Rao   (1921–2004)   \n",
       "11           13.       Atal Bihari Vajpayee  (1924- 2018)   \n",
       "12           14.           H. D. Deve Gowda   (born 1933)   \n",
       "13           15.         Inder Kumar Gujral   (1919–2012)   \n",
       "14           16.       Atal Bihari Vajpayee   (1924-2018)   \n",
       "15           17.             Manmohan Singh   (born 1932)   \n",
       "16           18.              Narendra Modi   (born 1950)   \n",
       "\n",
       "                                          Term_Tenure  \\\n",
       "0   15 August 1947 to 27 May 1964\\n16 years, 286 days   \n",
       "1                27 May 1964 to 9 June 1964,\\n13 days   \n",
       "2    9 June 1964 to 11 January 1966\\n1 year, 216 days   \n",
       "3   24 January 1966 to 24 March 1977\\n11 years, 59...   \n",
       "4   24 March 1977 to  28 July 1979 \\n2 year, 126 days   \n",
       "5           28 July 1979 to 14 January 1980\\n170 days   \n",
       "6   14 January 1980 to 31 October 1984\\n4 years, 2...   \n",
       "7   31 October 1984 to 2 December 1989\\n5 years, 3...   \n",
       "8       2 December 1989 to 10 November 1990\\n343 days   \n",
       "9          10 November 1990 to 21 June 1991\\n223 days   \n",
       "10     21 June 1991 to 16 May 1996\\n4 years, 330 days   \n",
       "11                16 May 1996 to 1 June 1996\\n16 days   \n",
       "12             1 June 1996 to 21 April 1997\\n324 days   \n",
       "13          21 April 1997 to 19 March 1998 \\n332 days   \n",
       "14    19 March 1998 to 22 May 2004 \\n6 years, 64 days   \n",
       "15    22 May 2004 to 26 May 2014   \\n10 years, 4 days   \n",
       "16                              26 May 2014 - Present   \n",
       "\n",
       "                                              Remarks  \n",
       "0   The first prime minister of India and the long...  \n",
       "1                            First acting PM of India  \n",
       "2   He has given the slogan of 'Jai Jawan Jai Kisa...  \n",
       "3                First female Prime Minister of India  \n",
       "4   Oldest to become PM (81 years old) and first t...  \n",
       "5             Only PM who did not face the Parliament  \n",
       "6   The first lady who served as PM for the second...  \n",
       "7                Youngest to become PM (40 years old)  \n",
       "8   First PM to step down after a vote of no confi...  \n",
       "9               He belongs to  Samajwadi Janata Party  \n",
       "10                          First PM from south India  \n",
       "11                             PM for shortest tenure  \n",
       "12                          He belongs to  Janata Dal  \n",
       "13                                             ------  \n",
       "14   The first non-congress PM who completed a ful...  \n",
       "15                                      First Sikh PM  \n",
       "16  4th Prime Minister of India who served two con...  "
      ]
     },
     "execution_count": 221,
     "metadata": {},
     "output_type": "execute_result"
    }
   ],
   "source": [
    "prime_minister = pd.DataFrame({})\n",
    "prime_minister['Serial_Number'] = S_no\n",
    "prime_minister['Name'] = Name\n",
    "prime_minister['Born_Dead'] = Born_Dead\n",
    "prime_minister['Term_Tenure'] = Term\n",
    "prime_minister['Remarks'] = Remark\n",
    "\n",
    "prime_minister"
   ]
  },
  {
   "cell_type": "markdown",
   "metadata": {},
   "source": [
    "Serial number 4 is not captured as \"4.&nbsp\""
   ]
  },
  {
   "cell_type": "code",
   "execution_count": 222,
   "metadata": {},
   "outputs": [],
   "source": [
    "driver.close()"
   ]
  },
  {
   "cell_type": "markdown",
   "metadata": {},
   "source": [
    "## Ques 11\n",
    "\n",
    "Q11: Write s python program to display list of 50 Most expensive cars in the world (i.e. Company name, Model name and Price) from https://www.motor1.com/\n",
    "\n",
    "This task will be done in following steps:\n",
    "1. First get the webpage https://www.motor1.com/\n",
    "2. Then You have to click on the List option from Dropdown menu on left side.\n",
    "3. Then click on 50 most expensive cars in the world..\n",
    "4. Then scrap the mentioned data and make the dataframe"
   ]
  },
  {
   "cell_type": "code",
   "execution_count": 223,
   "metadata": {},
   "outputs": [],
   "source": [
    "# let's first connect to the web driver\n",
    "driver = webdriver.Chrome(r'C:\\Users\\VAIO\\Downloads\\chromedriver.exe')"
   ]
  },
  {
   "cell_type": "code",
   "execution_count": 224,
   "metadata": {},
   "outputs": [],
   "source": [
    "url = \"https://www.motor1.com/\"\n",
    "driver.get(url)"
   ]
  },
  {
   "cell_type": "code",
   "execution_count": 225,
   "metadata": {},
   "outputs": [],
   "source": [
    "# Selecting Hamburger menu\n",
    "menu = driver.find_element(By.XPATH, '/html/body/div[2]/div[2]/div/div/div[1]/div')\n",
    "menu.click()"
   ]
  },
  {
   "cell_type": "code",
   "execution_count": 226,
   "metadata": {},
   "outputs": [],
   "source": [
    "# Selecting the List section from the menu\n",
    "list = driver.find_element(By.XPATH, '/html/body/div[3]/div[1]/div[3]/ul/li[4]/a')\n",
    "list.click()"
   ]
  },
  {
   "cell_type": "code",
   "execution_count": 227,
   "metadata": {},
   "outputs": [],
   "source": [
    "# Selecting the article for 50 most expensive cars\n",
    "exp_car = driver.find_element(By.XPATH, '/html/body/div[2]/div[9]/div[1]/div[1]/div/div/div[1]/div/div[1]/h3/a')\n",
    "exp_car.click()"
   ]
  },
  {
   "cell_type": "code",
   "execution_count": 228,
   "metadata": {},
   "outputs": [],
   "source": [
    "driver.find_element(By.XPATH, '/html/body/div[13]/div[2]/div').click()"
   ]
  },
  {
   "cell_type": "code",
   "execution_count": 245,
   "metadata": {
    "scrolled": true
   },
   "outputs": [
    {
     "data": {
      "text/plain": [
       "['Drako GTE',\n",
       " 'De Tomaso P72',\n",
       " 'Ferrari LaFerrari',\n",
       " 'Pagani Huayra',\n",
       " 'McLaren Elva',\n",
       " 'Czinger 21C',\n",
       " 'Ferrari Monza',\n",
       " 'Gordon Murray T.33',\n",
       " 'Koenigsegg Gemera',\n",
       " 'Zenvo TSR-S',\n",
       " 'Hennessey Venom F5',\n",
       " 'Bentley Bacalar',\n",
       " 'Hispano Suiza Carmen Boulogne',\n",
       " 'Bentley Mulliner Batur',\n",
       " 'Deus Vayanne',\n",
       " 'SSC Tuatara',\n",
       " 'Lotus Evija',\n",
       " 'Aston Martin Vulcan',\n",
       " 'Delage D12',\n",
       " 'McLaren Speedtail',\n",
       " 'Rimac Nevera',\n",
       " 'Pagani Utopia',\n",
       " 'Pininfarina Battista',\n",
       " 'Ferrari FXX K Evo',\n",
       " 'Gordon Murray T.50',\n",
       " 'Lamborghini Countach',\n",
       " 'Mercedes-AMG Project One',\n",
       " 'Aston Martin Victor',\n",
       " 'Hennessey Venom F5 Roadster',\n",
       " 'Koenigsegg Jesko',\n",
       " 'Aston Martin Valkyrie',\n",
       " 'W Motors Lykan Hypersport',\n",
       " 'McLaren Solus',\n",
       " 'Pagani Huayra Roadster BC',\n",
       " 'Bugatti Chiron Pur Sport',\n",
       " 'Lamborghini Sian',\n",
       " 'Koenigsegg CC850',\n",
       " 'Bugatti Chiron Super Sport 300+',\n",
       " 'Lamborghini Veneno',\n",
       " 'Bugatti Bolide',\n",
       " 'Bugatti Mistral',\n",
       " 'Pagani Huayra Imola',\n",
       " 'Bugatti Divo',\n",
       " 'SP Automotive Chaos',\n",
       " 'Pagani Codalunga',\n",
       " 'Mercedes-Maybach Exelero',\n",
       " 'Bugatti Centodieci',\n",
       " 'Rolls-Royce Sweptail',\n",
       " 'Bugatti La Voiture Noire',\n",
       " 'Rolls-Royce Boat Tail*']"
      ]
     },
     "execution_count": 245,
     "metadata": {},
     "output_type": "execute_result"
    }
   ],
   "source": [
    "Car = []\n",
    "car_tag = driver.find_elements(By.XPATH, '//h3[@class=\"subheader\"]')\n",
    "for i in car_tag:\n",
    "    Car.append(i.text)\n",
    "    \n",
    "Car.pop(-1)    # Popping the last element from the Car List \n",
    "               # as the last element contains unwanted value: 'Most Expensive Cars In The World'\n",
    "    \n",
    "Car"
   ]
  },
  {
   "cell_type": "code",
   "execution_count": 238,
   "metadata": {
    "scrolled": true
   },
   "outputs": [
    {
     "data": {
      "text/plain": [
       "['Price: $1.2 Million',\n",
       " 'Price: $1.3 Million',\n",
       " 'Price: $1.4 Million',\n",
       " 'Price: $1.4 Million',\n",
       " 'Price: $1.7 Million',\n",
       " 'Price: $1.7 Million',\n",
       " 'Price: $1.7 Million',\n",
       " 'Price: $1.7 Million',\n",
       " 'Price: $1.7 Million',\n",
       " 'Price: $1.7 Million',\n",
       " 'Price: $1.8 Million',\n",
       " 'Price: $1.9 Million',\n",
       " 'Price: $1.9 Million',\n",
       " 'Price: $2.0 Million',\n",
       " 'Price: $2.0 Million',\n",
       " 'Price: $2.0 Million*',\n",
       " 'Price: $2.1 Million',\n",
       " 'Price: $2.3 Million',\n",
       " 'Price: $2.3 Million',\n",
       " 'Price: $2.3 Million',\n",
       " 'Price: $2.4 Million',\n",
       " 'Price: $2.5 Million',\n",
       " 'Price: $2.5 Million',\n",
       " 'Price: $2.6 Million',\n",
       " 'Price: $2.6 Million',\n",
       " 'Price: $2.6 Million',\n",
       " 'Price: $2.7 Million',\n",
       " 'Price: $3.0 Million',\n",
       " '$3.0 Million',\n",
       " 'Price: $3.0 Million',\n",
       " 'Price: $3.2 Million',\n",
       " 'Price: $3.4 Million',\n",
       " '$3.5 Million',\n",
       " 'Price: $3.5 Million',\n",
       " 'Price: $3.6 Million',\n",
       " 'Price: $3.6 million',\n",
       " 'Price: $3.7 Million',\n",
       " 'Price: $3.9 Million',\n",
       " 'Price: $4.5 Million',\n",
       " 'Price: $4.7 Million',\n",
       " 'Price: $5.0 Million',\n",
       " 'Price: $5.4 Million',\n",
       " 'Price: $5.8 Million',\n",
       " 'Price: $6.4 Million',\n",
       " 'Price: $7.4 Million',\n",
       " 'Price: $8.0 Million',\n",
       " 'Price: $9.0 Million',\n",
       " 'Price: $12.8 Million',\n",
       " 'Price: $13.4 Million',\n",
       " 'Price: $28.0 Million (est.)']"
      ]
     },
     "execution_count": 238,
     "metadata": {},
     "output_type": "execute_result"
    }
   ],
   "source": [
    "Price = []\n",
    "price_tag = driver.find_elements(By.XPATH, '//p/strong')\n",
    "for i in price_tag:\n",
    "    Price.append(i.text)\n",
    "    \n",
    "Price.pop(4)   # popping out the value \" \" from index 4 of the Price List\n",
    "\n",
    "Price"
   ]
  },
  {
   "cell_type": "markdown",
   "metadata": {},
   "source": [
    "Car name could not be splitted into manufacturer name and model name as it is the single element and many manufacturer contains single word, for ex., Ferrari, Koenigsegg and many manufacturer contains 2 or more words, for ex., Gordon Murray, Aston Martin, etc."
   ]
  },
  {
   "cell_type": "markdown",
   "metadata": {},
   "source": [
    "## Creating Dataframe"
   ]
  },
  {
   "cell_type": "code",
   "execution_count": 244,
   "metadata": {},
   "outputs": [
    {
     "data": {
      "text/html": [
       "<div>\n",
       "<style scoped>\n",
       "    .dataframe tbody tr th:only-of-type {\n",
       "        vertical-align: middle;\n",
       "    }\n",
       "\n",
       "    .dataframe tbody tr th {\n",
       "        vertical-align: top;\n",
       "    }\n",
       "\n",
       "    .dataframe thead th {\n",
       "        text-align: right;\n",
       "    }\n",
       "</style>\n",
       "<table border=\"1\" class=\"dataframe\">\n",
       "  <thead>\n",
       "    <tr style=\"text-align: right;\">\n",
       "      <th></th>\n",
       "      <th>Car Name</th>\n",
       "      <th>Price</th>\n",
       "    </tr>\n",
       "  </thead>\n",
       "  <tbody>\n",
       "    <tr>\n",
       "      <th>0</th>\n",
       "      <td>Rolls-Royce Boat Tail*</td>\n",
       "      <td>Price: $28.0 Million (est.)</td>\n",
       "    </tr>\n",
       "    <tr>\n",
       "      <th>1</th>\n",
       "      <td>Bugatti La Voiture Noire</td>\n",
       "      <td>Price: $13.4 Million</td>\n",
       "    </tr>\n",
       "    <tr>\n",
       "      <th>2</th>\n",
       "      <td>Rolls-Royce Sweptail</td>\n",
       "      <td>Price: $12.8 Million</td>\n",
       "    </tr>\n",
       "    <tr>\n",
       "      <th>3</th>\n",
       "      <td>Bugatti Centodieci</td>\n",
       "      <td>Price: $9.0 Million</td>\n",
       "    </tr>\n",
       "    <tr>\n",
       "      <th>4</th>\n",
       "      <td>Mercedes-Maybach Exelero</td>\n",
       "      <td>Price: $8.0 Million</td>\n",
       "    </tr>\n",
       "    <tr>\n",
       "      <th>5</th>\n",
       "      <td>Pagani Codalunga</td>\n",
       "      <td>Price: $7.4 Million</td>\n",
       "    </tr>\n",
       "    <tr>\n",
       "      <th>6</th>\n",
       "      <td>SP Automotive Chaos</td>\n",
       "      <td>Price: $6.4 Million</td>\n",
       "    </tr>\n",
       "    <tr>\n",
       "      <th>7</th>\n",
       "      <td>Bugatti Divo</td>\n",
       "      <td>Price: $5.8 Million</td>\n",
       "    </tr>\n",
       "    <tr>\n",
       "      <th>8</th>\n",
       "      <td>Pagani Huayra Imola</td>\n",
       "      <td>Price: $5.4 Million</td>\n",
       "    </tr>\n",
       "    <tr>\n",
       "      <th>9</th>\n",
       "      <td>Bugatti Mistral</td>\n",
       "      <td>Price: $5.0 Million</td>\n",
       "    </tr>\n",
       "    <tr>\n",
       "      <th>10</th>\n",
       "      <td>Bugatti Bolide</td>\n",
       "      <td>Price: $4.7 Million</td>\n",
       "    </tr>\n",
       "    <tr>\n",
       "      <th>11</th>\n",
       "      <td>Lamborghini Veneno</td>\n",
       "      <td>Price: $4.5 Million</td>\n",
       "    </tr>\n",
       "    <tr>\n",
       "      <th>12</th>\n",
       "      <td>Bugatti Chiron Super Sport 300+</td>\n",
       "      <td>Price: $3.9 Million</td>\n",
       "    </tr>\n",
       "    <tr>\n",
       "      <th>13</th>\n",
       "      <td>Koenigsegg CC850</td>\n",
       "      <td>Price: $3.7 Million</td>\n",
       "    </tr>\n",
       "    <tr>\n",
       "      <th>14</th>\n",
       "      <td>Lamborghini Sian</td>\n",
       "      <td>Price: $3.6 million</td>\n",
       "    </tr>\n",
       "    <tr>\n",
       "      <th>15</th>\n",
       "      <td>Bugatti Chiron Pur Sport</td>\n",
       "      <td>Price: $3.6 Million</td>\n",
       "    </tr>\n",
       "    <tr>\n",
       "      <th>16</th>\n",
       "      <td>Pagani Huayra Roadster BC</td>\n",
       "      <td>Price: $3.5 Million</td>\n",
       "    </tr>\n",
       "    <tr>\n",
       "      <th>17</th>\n",
       "      <td>McLaren Solus</td>\n",
       "      <td>$3.5 Million</td>\n",
       "    </tr>\n",
       "    <tr>\n",
       "      <th>18</th>\n",
       "      <td>W Motors Lykan Hypersport</td>\n",
       "      <td>Price: $3.4 Million</td>\n",
       "    </tr>\n",
       "    <tr>\n",
       "      <th>19</th>\n",
       "      <td>Aston Martin Valkyrie</td>\n",
       "      <td>Price: $3.2 Million</td>\n",
       "    </tr>\n",
       "    <tr>\n",
       "      <th>20</th>\n",
       "      <td>Koenigsegg Jesko</td>\n",
       "      <td>Price: $3.0 Million</td>\n",
       "    </tr>\n",
       "    <tr>\n",
       "      <th>21</th>\n",
       "      <td>Hennessey Venom F5 Roadster</td>\n",
       "      <td>$3.0 Million</td>\n",
       "    </tr>\n",
       "    <tr>\n",
       "      <th>22</th>\n",
       "      <td>Aston Martin Victor</td>\n",
       "      <td>Price: $3.0 Million</td>\n",
       "    </tr>\n",
       "    <tr>\n",
       "      <th>23</th>\n",
       "      <td>Mercedes-AMG Project One</td>\n",
       "      <td>Price: $2.7 Million</td>\n",
       "    </tr>\n",
       "    <tr>\n",
       "      <th>24</th>\n",
       "      <td>Lamborghini Countach</td>\n",
       "      <td>Price: $2.6 Million</td>\n",
       "    </tr>\n",
       "    <tr>\n",
       "      <th>25</th>\n",
       "      <td>Gordon Murray T.50</td>\n",
       "      <td>Price: $2.6 Million</td>\n",
       "    </tr>\n",
       "    <tr>\n",
       "      <th>26</th>\n",
       "      <td>Ferrari FXX K Evo</td>\n",
       "      <td>Price: $2.6 Million</td>\n",
       "    </tr>\n",
       "    <tr>\n",
       "      <th>27</th>\n",
       "      <td>Pininfarina Battista</td>\n",
       "      <td>Price: $2.5 Million</td>\n",
       "    </tr>\n",
       "    <tr>\n",
       "      <th>28</th>\n",
       "      <td>Pagani Utopia</td>\n",
       "      <td>Price: $2.5 Million</td>\n",
       "    </tr>\n",
       "    <tr>\n",
       "      <th>29</th>\n",
       "      <td>Rimac Nevera</td>\n",
       "      <td>Price: $2.4 Million</td>\n",
       "    </tr>\n",
       "    <tr>\n",
       "      <th>30</th>\n",
       "      <td>McLaren Speedtail</td>\n",
       "      <td>Price: $2.3 Million</td>\n",
       "    </tr>\n",
       "    <tr>\n",
       "      <th>31</th>\n",
       "      <td>Delage D12</td>\n",
       "      <td>Price: $2.3 Million</td>\n",
       "    </tr>\n",
       "    <tr>\n",
       "      <th>32</th>\n",
       "      <td>Aston Martin Vulcan</td>\n",
       "      <td>Price: $2.3 Million</td>\n",
       "    </tr>\n",
       "    <tr>\n",
       "      <th>33</th>\n",
       "      <td>Lotus Evija</td>\n",
       "      <td>Price: $2.1 Million</td>\n",
       "    </tr>\n",
       "    <tr>\n",
       "      <th>34</th>\n",
       "      <td>SSC Tuatara</td>\n",
       "      <td>Price: $2.0 Million*</td>\n",
       "    </tr>\n",
       "    <tr>\n",
       "      <th>35</th>\n",
       "      <td>Deus Vayanne</td>\n",
       "      <td>Price: $2.0 Million</td>\n",
       "    </tr>\n",
       "    <tr>\n",
       "      <th>36</th>\n",
       "      <td>Bentley Mulliner Batur</td>\n",
       "      <td>Price: $2.0 Million</td>\n",
       "    </tr>\n",
       "    <tr>\n",
       "      <th>37</th>\n",
       "      <td>Hispano Suiza Carmen Boulogne</td>\n",
       "      <td>Price: $1.9 Million</td>\n",
       "    </tr>\n",
       "    <tr>\n",
       "      <th>38</th>\n",
       "      <td>Bentley Bacalar</td>\n",
       "      <td>Price: $1.9 Million</td>\n",
       "    </tr>\n",
       "    <tr>\n",
       "      <th>39</th>\n",
       "      <td>Hennessey Venom F5</td>\n",
       "      <td>Price: $1.8 Million</td>\n",
       "    </tr>\n",
       "    <tr>\n",
       "      <th>40</th>\n",
       "      <td>Zenvo TSR-S</td>\n",
       "      <td>Price: $1.7 Million</td>\n",
       "    </tr>\n",
       "    <tr>\n",
       "      <th>41</th>\n",
       "      <td>Koenigsegg Gemera</td>\n",
       "      <td>Price: $1.7 Million</td>\n",
       "    </tr>\n",
       "    <tr>\n",
       "      <th>42</th>\n",
       "      <td>Gordon Murray T.33</td>\n",
       "      <td>Price: $1.7 Million</td>\n",
       "    </tr>\n",
       "    <tr>\n",
       "      <th>43</th>\n",
       "      <td>Ferrari Monza</td>\n",
       "      <td>Price: $1.7 Million</td>\n",
       "    </tr>\n",
       "    <tr>\n",
       "      <th>44</th>\n",
       "      <td>Czinger 21C</td>\n",
       "      <td>Price: $1.7 Million</td>\n",
       "    </tr>\n",
       "    <tr>\n",
       "      <th>45</th>\n",
       "      <td>McLaren Elva</td>\n",
       "      <td>Price: $1.7 Million</td>\n",
       "    </tr>\n",
       "    <tr>\n",
       "      <th>46</th>\n",
       "      <td>Pagani Huayra</td>\n",
       "      <td>Price: $1.4 Million</td>\n",
       "    </tr>\n",
       "    <tr>\n",
       "      <th>47</th>\n",
       "      <td>Ferrari LaFerrari</td>\n",
       "      <td>Price: $1.4 Million</td>\n",
       "    </tr>\n",
       "    <tr>\n",
       "      <th>48</th>\n",
       "      <td>De Tomaso P72</td>\n",
       "      <td>Price: $1.3 Million</td>\n",
       "    </tr>\n",
       "  </tbody>\n",
       "</table>\n",
       "</div>"
      ],
      "text/plain": [
       "                           Car Name                        Price\n",
       "0            Rolls-Royce Boat Tail*  Price: $28.0 Million (est.)\n",
       "1          Bugatti La Voiture Noire         Price: $13.4 Million\n",
       "2              Rolls-Royce Sweptail         Price: $12.8 Million\n",
       "3                Bugatti Centodieci          Price: $9.0 Million\n",
       "4          Mercedes-Maybach Exelero          Price: $8.0 Million\n",
       "5                  Pagani Codalunga          Price: $7.4 Million\n",
       "6               SP Automotive Chaos          Price: $6.4 Million\n",
       "7                      Bugatti Divo          Price: $5.8 Million\n",
       "8               Pagani Huayra Imola          Price: $5.4 Million\n",
       "9                   Bugatti Mistral          Price: $5.0 Million\n",
       "10                   Bugatti Bolide          Price: $4.7 Million\n",
       "11               Lamborghini Veneno          Price: $4.5 Million\n",
       "12  Bugatti Chiron Super Sport 300+          Price: $3.9 Million\n",
       "13                 Koenigsegg CC850          Price: $3.7 Million\n",
       "14                 Lamborghini Sian          Price: $3.6 million\n",
       "15         Bugatti Chiron Pur Sport          Price: $3.6 Million\n",
       "16        Pagani Huayra Roadster BC          Price: $3.5 Million\n",
       "17                    McLaren Solus                 $3.5 Million\n",
       "18        W Motors Lykan Hypersport          Price: $3.4 Million\n",
       "19            Aston Martin Valkyrie          Price: $3.2 Million\n",
       "20                 Koenigsegg Jesko          Price: $3.0 Million\n",
       "21      Hennessey Venom F5 Roadster                 $3.0 Million\n",
       "22              Aston Martin Victor          Price: $3.0 Million\n",
       "23         Mercedes-AMG Project One          Price: $2.7 Million\n",
       "24             Lamborghini Countach          Price: $2.6 Million\n",
       "25               Gordon Murray T.50          Price: $2.6 Million\n",
       "26                Ferrari FXX K Evo          Price: $2.6 Million\n",
       "27             Pininfarina Battista          Price: $2.5 Million\n",
       "28                    Pagani Utopia          Price: $2.5 Million\n",
       "29                     Rimac Nevera          Price: $2.4 Million\n",
       "30                McLaren Speedtail          Price: $2.3 Million\n",
       "31                       Delage D12          Price: $2.3 Million\n",
       "32              Aston Martin Vulcan          Price: $2.3 Million\n",
       "33                      Lotus Evija          Price: $2.1 Million\n",
       "34                      SSC Tuatara         Price: $2.0 Million*\n",
       "35                     Deus Vayanne          Price: $2.0 Million\n",
       "36           Bentley Mulliner Batur          Price: $2.0 Million\n",
       "37    Hispano Suiza Carmen Boulogne          Price: $1.9 Million\n",
       "38                  Bentley Bacalar          Price: $1.9 Million\n",
       "39               Hennessey Venom F5          Price: $1.8 Million\n",
       "40                      Zenvo TSR-S          Price: $1.7 Million\n",
       "41                Koenigsegg Gemera          Price: $1.7 Million\n",
       "42               Gordon Murray T.33          Price: $1.7 Million\n",
       "43                    Ferrari Monza          Price: $1.7 Million\n",
       "44                      Czinger 21C          Price: $1.7 Million\n",
       "45                     McLaren Elva          Price: $1.7 Million\n",
       "46                    Pagani Huayra          Price: $1.4 Million\n",
       "47                Ferrari LaFerrari          Price: $1.4 Million\n",
       "48                    De Tomaso P72          Price: $1.3 Million"
      ]
     },
     "execution_count": 244,
     "metadata": {},
     "output_type": "execute_result"
    }
   ],
   "source": [
    "car_det = pd.DataFrame({})\n",
    "\n",
    "car_det['Car Name'] = Car[:0:-1]\n",
    "car_det['Price'] = Price[:0:-1]\n",
    "\n",
    "car_det"
   ]
  },
  {
   "cell_type": "markdown",
   "metadata": {},
   "source": [
    "The dataframe is in descending order, i.e., price is from highest to lowest"
   ]
  }
 ],
 "metadata": {
  "kernelspec": {
   "display_name": "Python 3 (ipykernel)",
   "language": "python",
   "name": "python3"
  },
  "language_info": {
   "codemirror_mode": {
    "name": "ipython",
    "version": 3
   },
   "file_extension": ".py",
   "mimetype": "text/x-python",
   "name": "python",
   "nbconvert_exporter": "python",
   "pygments_lexer": "ipython3",
   "version": "3.9.12"
  }
 },
 "nbformat": 4,
 "nbformat_minor": 4
}
