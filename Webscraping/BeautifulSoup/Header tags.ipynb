{
 "cells": [
  {
   "cell_type": "markdown",
   "id": "41a31c7c",
   "metadata": {},
   "source": [
    "# Web Scraping\n",
    "\n",
    "__Question 1__"
   ]
  },
  {
   "cell_type": "code",
   "execution_count": 1,
   "id": "acae7ce9",
   "metadata": {},
   "outputs": [],
   "source": [
    "from bs4 import BeautifulSoup\n",
    "import requests as r"
   ]
  },
  {
   "cell_type": "code",
   "execution_count": 2,
   "id": "2f144512",
   "metadata": {},
   "outputs": [
    {
     "name": "stdout",
     "output_type": "stream",
     "text": [
      "h1 => Wikipedia\n",
      "\n",
      "The Free Encyclopedia\n",
      "h2 => 1 000 000+\n",
      "\n",
      "\n",
      "articles\n",
      "h2 => 100 000+\n",
      "\n",
      "\n",
      "articles\n",
      "h2 => 10 000+\n",
      "\n",
      "\n",
      "articles\n",
      "h2 => 1 000+\n",
      "\n",
      "\n",
      "articles\n",
      "h2 => 100+\n",
      "\n",
      "\n",
      "articles\n"
     ]
    }
   ],
   "source": [
    "url = \"https://www.wikipedia.org/\"\n",
    "req = r.get(url)\n",
    "text = req.text\n",
    "\n",
    "soup = BeautifulSoup(text, 'lxml')\n",
    "\n",
    "# Heading tag in a list\n",
    "\n",
    "wiki_header_tag = ['h1', 'h2', 'h3']\n",
    "\n",
    "for tags in soup.find_all(wiki_header_tag):\n",
    "    print(tags.name, '=>', tags.text.strip())"
   ]
  }
 ],
 "metadata": {
  "kernelspec": {
   "display_name": "Python 3 (ipykernel)",
   "language": "python",
   "name": "python3"
  },
  "language_info": {
   "codemirror_mode": {
    "name": "ipython",
    "version": 3
   },
   "file_extension": ".py",
   "mimetype": "text/x-python",
   "name": "python",
   "nbconvert_exporter": "python",
   "pygments_lexer": "ipython3",
   "version": "3.9.12"
  }
 },
 "nbformat": 4,
 "nbformat_minor": 5
}
